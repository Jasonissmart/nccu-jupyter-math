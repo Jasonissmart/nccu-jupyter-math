{
 "cells": [
  {
   "cell_type": "markdown",
   "metadata": {},
   "source": [
    "# 09 進擊的熊貓"
   ]
  },
  {
   "cell_type": "markdown",
   "metadata": {},
   "source": [
    "先來標準的套件讀入。"
   ]
  },
  {
   "cell_type": "code",
   "execution_count": 1,
   "metadata": {
    "collapsed": true
   },
   "outputs": [],
   "source": [
    "%matplotlib inline\n",
    "import numpy as np\n",
    "import matplotlib.pyplot as plt\n",
    "import pandas as pd"
   ]
  },
  {
   "cell_type": "markdown",
   "metadata": {},
   "source": [
    "## 09-1 很棒的課程和資料\n",
    "\n",
    "上次介紹了 Pandas Q&A 系列影片, 這裡有它的原始檔。最棒的是, 他用的資料都做了很方便的連結。\n",
    "\n",
    "[Pandas Q&A 原始檔及資料連結](https://github.com/justmarkham/pandas-videos)\n",
    "\n",
    "比如說, 我們可以拿 UFO 資料庫來用用。"
   ]
  },
  {
   "cell_type": "code",
   "execution_count": 2,
   "metadata": {
    "collapsed": true
   },
   "outputs": [],
   "source": [
    "df = pd.read_csv(\"http://bit.ly/uforeports\")"
   ]
  },
  {
   "cell_type": "code",
   "execution_count": 3,
   "metadata": {},
   "outputs": [
    {
     "data": {
      "text/html": [
       "<div>\n",
       "<table border=\"1\" class=\"dataframe\">\n",
       "  <thead>\n",
       "    <tr style=\"text-align: right;\">\n",
       "      <th></th>\n",
       "      <th>City</th>\n",
       "      <th>Colors Reported</th>\n",
       "      <th>Shape Reported</th>\n",
       "      <th>State</th>\n",
       "      <th>Time</th>\n",
       "    </tr>\n",
       "  </thead>\n",
       "  <tbody>\n",
       "    <tr>\n",
       "      <th>0</th>\n",
       "      <td>Ithaca</td>\n",
       "      <td>NaN</td>\n",
       "      <td>TRIANGLE</td>\n",
       "      <td>NY</td>\n",
       "      <td>6/1/1930 22:00</td>\n",
       "    </tr>\n",
       "    <tr>\n",
       "      <th>1</th>\n",
       "      <td>Willingboro</td>\n",
       "      <td>NaN</td>\n",
       "      <td>OTHER</td>\n",
       "      <td>NJ</td>\n",
       "      <td>6/30/1930 20:00</td>\n",
       "    </tr>\n",
       "    <tr>\n",
       "      <th>2</th>\n",
       "      <td>Holyoke</td>\n",
       "      <td>NaN</td>\n",
       "      <td>OVAL</td>\n",
       "      <td>CO</td>\n",
       "      <td>2/15/1931 14:00</td>\n",
       "    </tr>\n",
       "    <tr>\n",
       "      <th>3</th>\n",
       "      <td>Abilene</td>\n",
       "      <td>NaN</td>\n",
       "      <td>DISK</td>\n",
       "      <td>KS</td>\n",
       "      <td>6/1/1931 13:00</td>\n",
       "    </tr>\n",
       "    <tr>\n",
       "      <th>4</th>\n",
       "      <td>New York Worlds Fair</td>\n",
       "      <td>NaN</td>\n",
       "      <td>LIGHT</td>\n",
       "      <td>NY</td>\n",
       "      <td>4/18/1933 19:00</td>\n",
       "    </tr>\n",
       "  </tbody>\n",
       "</table>\n",
       "</div>"
      ],
      "text/plain": [
       "                   City Colors Reported Shape Reported State             Time\n",
       "0                Ithaca             NaN       TRIANGLE    NY   6/1/1930 22:00\n",
       "1           Willingboro             NaN          OTHER    NJ  6/30/1930 20:00\n",
       "2               Holyoke             NaN           OVAL    CO  2/15/1931 14:00\n",
       "3               Abilene             NaN           DISK    KS   6/1/1931 13:00\n",
       "4  New York Worlds Fair             NaN          LIGHT    NY  4/18/1933 19:00"
      ]
     },
     "execution_count": 3,
     "metadata": {},
     "output_type": "execute_result"
    }
   ],
   "source": [
    "df.head()"
   ]
  },
  {
   "cell_type": "markdown",
   "metadata": {},
   "source": [
    "這是不是太方便了!!"
   ]
  },
  {
   "cell_type": "markdown",
   "metadata": {},
   "source": [
    "## 09-2 Groupby\n",
    "\n",
    "我們現在想看一下哪一州容易出現 UFO。"
   ]
  },
  {
   "cell_type": "code",
   "execution_count": 4,
   "metadata": {},
   "outputs": [],
   "source": [
    "df_state = df.groupby(\"State\").count()"
   ]
  },
  {
   "cell_type": "code",
   "execution_count": 5,
   "metadata": {},
   "outputs": [],
   "source": [
    "df_state.sort_values(\"Time\", ascending=False, inplace=True)"
   ]
  },
  {
   "cell_type": "markdown",
   "metadata": {},
   "source": [
    "所以加州最容易看到 UFO!! Pandas 其實真的很喜歡把算好的東西放成一個新的 DataFrame。"
   ]
  },
  {
   "cell_type": "code",
   "execution_count": 6,
   "metadata": {
    "collapsed": true
   },
   "outputs": [],
   "source": [
    "df_rank = df_state.sort_values(\"Time\", ascending=False)"
   ]
  },
  {
   "cell_type": "markdown",
   "metadata": {},
   "source": [
    "UFO 10 大州!!"
   ]
  },
  {
   "cell_type": "code",
   "execution_count": 7,
   "metadata": {},
   "outputs": [
    {
     "data": {
      "text/plain": [
       "<matplotlib.axes._subplots.AxesSubplot at 0x115de6278>"
      ]
     },
     "execution_count": 7,
     "metadata": {},
     "output_type": "execute_result"
    },
    {
     "data": {
      "image/png": "[encoded data removed]",
      "text/plain": [
       "<matplotlib.figure.Figure at 0x104a45e10>"
      ]
     },
     "metadata": {},
     "output_type": "display_data"
    }
   ],
   "source": [
    "df_rank[:10].Time.plot(kind='bar')"
   ]
  },
  {
   "cell_type": "markdown",
   "metadata": {
    "collapsed": true
   },
   "source": [
    "## 09-3 自製一個 DataFrame\n",
    "\n",
    "一個 DataFrame 基本上包含:\n",
    "    \n",
    "1. 資料區 (一個 $m\\times n$ 陣列)\n",
    "2. index (列的名字)\n",
    "3. columns (行的名字)"
   ]
  },
  {
   "cell_type": "markdown",
   "metadata": {},
   "source": [
    "#### 小插播\n",
    "\n",
    "Python 做一個 ['A', 'B', 'C'] 這類的 list 很簡單。"
   ]
  },
  {
   "cell_type": "code",
   "execution_count": 8,
   "metadata": {},
   "outputs": [
    {
     "data": {
      "text/plain": [
       "['A', 'B', 'C']"
      ]
     },
     "execution_count": 8,
     "metadata": {},
     "output_type": "execute_result"
    }
   ],
   "source": [
    "list(\"ABC\")"
   ]
  },
  {
   "cell_type": "markdown",
   "metadata": {},
   "source": [
    "#### 做一個 DataFrame"
   ]
  },
  {
   "cell_type": "code",
   "execution_count": 9,
   "metadata": {
    "collapsed": true
   },
   "outputs": [],
   "source": [
    "df = pd.DataFrame(np.random.randn(5,3), index=list(range(1,6)),\n",
    "                 columns=list(\"ABC\"))"
   ]
  },
  {
   "cell_type": "code",
   "execution_count": 10,
   "metadata": {},
   "outputs": [
    {
     "data": {
      "text/html": [
       "<div>\n",
       "<table border=\"1\" class=\"dataframe\">\n",
       "  <thead>\n",
       "    <tr style=\"text-align: right;\">\n",
       "      <th></th>\n",
       "      <th>A</th>\n",
       "      <th>B</th>\n",
       "      <th>C</th>\n",
       "    </tr>\n",
       "  </thead>\n",
       "  <tbody>\n",
       "    <tr>\n",
       "      <th>1</th>\n",
       "      <td>-0.390619</td>\n",
       "      <td>-0.507412</td>\n",
       "      <td>-0.187132</td>\n",
       "    </tr>\n",
       "    <tr>\n",
       "      <th>2</th>\n",
       "      <td>0.930274</td>\n",
       "      <td>0.379402</td>\n",
       "      <td>0.214068</td>\n",
       "    </tr>\n",
       "    <tr>\n",
       "      <th>3</th>\n",
       "      <td>-0.935295</td>\n",
       "      <td>1.952256</td>\n",
       "      <td>-1.932010</td>\n",
       "    </tr>\n",
       "    <tr>\n",
       "      <th>4</th>\n",
       "      <td>1.128447</td>\n",
       "      <td>-0.470233</td>\n",
       "      <td>-0.116660</td>\n",
       "    </tr>\n",
       "    <tr>\n",
       "      <th>5</th>\n",
       "      <td>1.601447</td>\n",
       "      <td>-0.329149</td>\n",
       "      <td>0.121009</td>\n",
       "    </tr>\n",
       "  </tbody>\n",
       "</table>\n",
       "</div>"
      ],
      "text/plain": [
       "          A         B         C\n",
       "1 -0.390619 -0.507412 -0.187132\n",
       "2  0.930274  0.379402  0.214068\n",
       "3 -0.935295  1.952256 -1.932010\n",
       "4  1.128447 -0.470233 -0.116660\n",
       "5  1.601447 -0.329149  0.121009"
      ]
     },
     "execution_count": 10,
     "metadata": {},
     "output_type": "execute_result"
    }
   ],
   "source": [
    "df"
   ]
  },
  {
   "cell_type": "markdown",
   "metadata": {},
   "source": [
    "我們學到了一些 slicing 的方法..."
   ]
  },
  {
   "cell_type": "code",
   "execution_count": 11,
   "metadata": {},
   "outputs": [
    {
     "data": {
      "text/plain": [
       "1   -0.390619\n",
       "2    0.930274\n",
       "3   -0.935295\n",
       "4    1.128447\n",
       "5    1.601447\n",
       "Name: A, dtype: float64"
      ]
     },
     "execution_count": 11,
     "metadata": {},
     "output_type": "execute_result"
    }
   ],
   "source": [
    "df[\"A\"]"
   ]
  },
  {
   "cell_type": "code",
   "execution_count": 12,
   "metadata": {},
   "outputs": [
    {
     "data": {
      "text/plain": [
       "1   -0.390619\n",
       "2    0.930274\n",
       "3   -0.935295\n",
       "4    1.128447\n",
       "5    1.601447\n",
       "Name: A, dtype: float64"
      ]
     },
     "execution_count": 12,
     "metadata": {},
     "output_type": "execute_result"
    }
   ],
   "source": [
    "df.A"
   ]
  },
  {
   "cell_type": "markdown",
   "metadata": {},
   "source": [
    "我們也可以模仿以前 array 的方式找出符合條件的資料。例如我們想找 B 這行大於 0 的資料。"
   ]
  },
  {
   "cell_type": "code",
   "execution_count": 13,
   "metadata": {},
   "outputs": [
    {
     "data": {
      "text/html": [
       "<div>\n",
       "<table border=\"1\" class=\"dataframe\">\n",
       "  <thead>\n",
       "    <tr style=\"text-align: right;\">\n",
       "      <th></th>\n",
       "      <th>A</th>\n",
       "      <th>B</th>\n",
       "      <th>C</th>\n",
       "    </tr>\n",
       "  </thead>\n",
       "  <tbody>\n",
       "    <tr>\n",
       "      <th>2</th>\n",
       "      <td>0.930274</td>\n",
       "      <td>0.379402</td>\n",
       "      <td>0.214068</td>\n",
       "    </tr>\n",
       "    <tr>\n",
       "      <th>3</th>\n",
       "      <td>-0.935295</td>\n",
       "      <td>1.952256</td>\n",
       "      <td>-1.932010</td>\n",
       "    </tr>\n",
       "  </tbody>\n",
       "</table>\n",
       "</div>"
      ],
      "text/plain": [
       "          A         B         C\n",
       "2  0.930274  0.379402  0.214068\n",
       "3 -0.935295  1.952256 -1.932010"
      ]
     },
     "execution_count": 13,
     "metadata": {},
     "output_type": "execute_result"
    }
   ],
   "source": [
    "df[df.B > 0]"
   ]
  },
  {
   "cell_type": "code",
   "execution_count": 14,
   "metadata": {},
   "outputs": [
    {
     "data": {
      "text/html": [
       "<div>\n",
       "<table border=\"1\" class=\"dataframe\">\n",
       "  <thead>\n",
       "    <tr style=\"text-align: right;\">\n",
       "      <th></th>\n",
       "      <th>A</th>\n",
       "      <th>B</th>\n",
       "      <th>C</th>\n",
       "    </tr>\n",
       "  </thead>\n",
       "  <tbody>\n",
       "    <tr>\n",
       "      <th>2</th>\n",
       "      <td>0.930274</td>\n",
       "      <td>0.379402</td>\n",
       "      <td>0.214068</td>\n",
       "    </tr>\n",
       "    <tr>\n",
       "      <th>3</th>\n",
       "      <td>-0.935295</td>\n",
       "      <td>1.952256</td>\n",
       "      <td>-1.932010</td>\n",
       "    </tr>\n",
       "  </tbody>\n",
       "</table>\n",
       "</div>"
      ],
      "text/plain": [
       "          A         B         C\n",
       "2  0.930274  0.379402  0.214068\n",
       "3 -0.935295  1.952256 -1.932010"
      ]
     },
     "execution_count": 14,
     "metadata": {},
     "output_type": "execute_result"
    }
   ],
   "source": [
    "df[df.B > 0]"
   ]
  },
  {
   "cell_type": "markdown",
   "metadata": {},
   "source": [
    "# 09-4 `loc` 定位法"
   ]
  },
  {
   "cell_type": "markdown",
   "metadata": {},
   "source": [
    "我們想讓 B > 0 的那筆資料, C 都變成 0 (不要問我為什麼, 就高興)"
   ]
  },
  {
   "cell_type": "code",
   "execution_count": 15,
   "metadata": {},
   "outputs": [
    {
     "name": "stderr",
     "output_type": "stream",
     "text": [
      "/Users/mac/anaconda3/lib/python3.5/site-packages/ipykernel/__main__.py:1: SettingWithCopyWarning: \n",
      "A value is trying to be set on a copy of a slice from a DataFrame.\n",
      "Try using .loc[row_indexer,col_indexer] = value instead\n",
      "\n",
      "See the caveats in the documentation: http://pandas.pydata.org/pandas-docs/stable/indexing.html#indexing-view-versus-copy\n",
      "  if __name__ == '__main__':\n"
     ]
    }
   ],
   "source": [
    "df[df.B > 0][\"C\"] = 0"
   ]
  },
  {
   "cell_type": "markdown",
   "metadata": {},
   "source": [
    "Wow! Pandas 抗議了, 抗議沒關係, 我們看看它幫我們改了沒有。"
   ]
  },
  {
   "cell_type": "code",
   "execution_count": 16,
   "metadata": {},
   "outputs": [
    {
     "data": {
      "text/html": [
       "<div>\n",
       "<table border=\"1\" class=\"dataframe\">\n",
       "  <thead>\n",
       "    <tr style=\"text-align: right;\">\n",
       "      <th></th>\n",
       "      <th>A</th>\n",
       "      <th>B</th>\n",
       "      <th>C</th>\n",
       "    </tr>\n",
       "  </thead>\n",
       "  <tbody>\n",
       "    <tr>\n",
       "      <th>1</th>\n",
       "      <td>-0.390619</td>\n",
       "      <td>-0.507412</td>\n",
       "      <td>-0.187132</td>\n",
       "    </tr>\n",
       "    <tr>\n",
       "      <th>2</th>\n",
       "      <td>0.930274</td>\n",
       "      <td>0.379402</td>\n",
       "      <td>0.214068</td>\n",
       "    </tr>\n",
       "    <tr>\n",
       "      <th>3</th>\n",
       "      <td>-0.935295</td>\n",
       "      <td>1.952256</td>\n",
       "      <td>-1.932010</td>\n",
       "    </tr>\n",
       "    <tr>\n",
       "      <th>4</th>\n",
       "      <td>1.128447</td>\n",
       "      <td>-0.470233</td>\n",
       "      <td>-0.116660</td>\n",
       "    </tr>\n",
       "    <tr>\n",
       "      <th>5</th>\n",
       "      <td>1.601447</td>\n",
       "      <td>-0.329149</td>\n",
       "      <td>0.121009</td>\n",
       "    </tr>\n",
       "  </tbody>\n",
       "</table>\n",
       "</div>"
      ],
      "text/plain": [
       "          A         B         C\n",
       "1 -0.390619 -0.507412 -0.187132\n",
       "2  0.930274  0.379402  0.214068\n",
       "3 -0.935295  1.952256 -1.932010\n",
       "4  1.128447 -0.470233 -0.116660\n",
       "5  1.601447 -0.329149  0.121009"
      ]
     },
     "execution_count": 16,
     "metadata": {},
     "output_type": "execute_result"
    }
   ],
   "source": [
    "df"
   ]
  },
  {
   "cell_type": "markdown",
   "metadata": {},
   "source": [
    "沒。有。改!!\n",
    "\n",
    "這也太可怕了! 這原因是\n",
    "\n",
    "    df[df.B > 0][\"C\"]\n",
    "    \n",
    "的時候 `pandas` 在\n",
    "\n",
    "    df[df.B > 0]\n",
    "    \n",
    "就回傳一個新的 DataFrame 給你, 然後改了這個 DataFrame 的 C 欄... 因此 `df` 根本沒有碰!!\n",
    "\n",
    "正確改變要用 `loc`, `loc`, `loc`!!"
   ]
  },
  {
   "cell_type": "markdown",
   "metadata": {},
   "source": [
    "#### 基本的 `loc` 使用方式\n",
    "\n",
    "基本上 `loc` 這樣使用\n",
    "\n",
    "    df[列的範圍, 行的範圍]"
   ]
  },
  {
   "cell_type": "code",
   "execution_count": 17,
   "metadata": {},
   "outputs": [
    {
     "data": {
      "text/html": [
       "<div>\n",
       "<table border=\"1\" class=\"dataframe\">\n",
       "  <thead>\n",
       "    <tr style=\"text-align: right;\">\n",
       "      <th></th>\n",
       "      <th>B</th>\n",
       "      <th>C</th>\n",
       "    </tr>\n",
       "  </thead>\n",
       "  <tbody>\n",
       "    <tr>\n",
       "      <th>2</th>\n",
       "      <td>0.379402</td>\n",
       "      <td>0.214068</td>\n",
       "    </tr>\n",
       "    <tr>\n",
       "      <th>3</th>\n",
       "      <td>1.952256</td>\n",
       "      <td>-1.932010</td>\n",
       "    </tr>\n",
       "  </tbody>\n",
       "</table>\n",
       "</div>"
      ],
      "text/plain": [
       "          B         C\n",
       "2  0.379402  0.214068\n",
       "3  1.952256 -1.932010"
      ]
     },
     "execution_count": 17,
     "metadata": {},
     "output_type": "execute_result"
    }
   ],
   "source": [
    "df.loc[2:3, \"B\":\"C\"]"
   ]
  },
  {
   "cell_type": "markdown",
   "metadata": {},
   "source": [
    "只有一列或一行就用括號!"
   ]
  },
  {
   "cell_type": "code",
   "execution_count": 18,
   "metadata": {},
   "outputs": [
    {
     "data": {
      "text/plain": [
       "0.37940242464744467"
      ]
     },
     "execution_count": 18,
     "metadata": {},
     "output_type": "execute_result"
    }
   ],
   "source": [
    "df.loc[(2), (\"B\")]"
   ]
  },
  {
   "cell_type": "markdown",
   "metadata": {},
   "source": [
    "我們來改改看..."
   ]
  },
  {
   "cell_type": "code",
   "execution_count": 19,
   "metadata": {
    "collapsed": true
   },
   "outputs": [],
   "source": [
    "df.loc[(2), (\"B\")] = -1"
   ]
  },
  {
   "cell_type": "code",
   "execution_count": 20,
   "metadata": {},
   "outputs": [
    {
     "data": {
      "text/html": [
       "<div>\n",
       "<table border=\"1\" class=\"dataframe\">\n",
       "  <thead>\n",
       "    <tr style=\"text-align: right;\">\n",
       "      <th></th>\n",
       "      <th>A</th>\n",
       "      <th>B</th>\n",
       "      <th>C</th>\n",
       "    </tr>\n",
       "  </thead>\n",
       "  <tbody>\n",
       "    <tr>\n",
       "      <th>1</th>\n",
       "      <td>-0.390619</td>\n",
       "      <td>-0.507412</td>\n",
       "      <td>-0.187132</td>\n",
       "    </tr>\n",
       "    <tr>\n",
       "      <th>2</th>\n",
       "      <td>0.930274</td>\n",
       "      <td>-1.000000</td>\n",
       "      <td>0.214068</td>\n",
       "    </tr>\n",
       "    <tr>\n",
       "      <th>3</th>\n",
       "      <td>-0.935295</td>\n",
       "      <td>1.952256</td>\n",
       "      <td>-1.932010</td>\n",
       "    </tr>\n",
       "    <tr>\n",
       "      <th>4</th>\n",
       "      <td>1.128447</td>\n",
       "      <td>-0.470233</td>\n",
       "      <td>-0.116660</td>\n",
       "    </tr>\n",
       "    <tr>\n",
       "      <th>5</th>\n",
       "      <td>1.601447</td>\n",
       "      <td>-0.329149</td>\n",
       "      <td>0.121009</td>\n",
       "    </tr>\n",
       "  </tbody>\n",
       "</table>\n",
       "</div>"
      ],
      "text/plain": [
       "          A         B         C\n",
       "1 -0.390619 -0.507412 -0.187132\n",
       "2  0.930274 -1.000000  0.214068\n",
       "3 -0.935295  1.952256 -1.932010\n",
       "4  1.128447 -0.470233 -0.116660\n",
       "5  1.601447 -0.329149  0.121009"
      ]
     },
     "execution_count": 20,
     "metadata": {},
     "output_type": "execute_result"
    }
   ],
   "source": [
    "df"
   ]
  },
  {
   "cell_type": "markdown",
   "metadata": {},
   "source": [
    "改成了!!"
   ]
  },
  {
   "cell_type": "code",
   "execution_count": 21,
   "metadata": {},
   "outputs": [],
   "source": [
    "df.loc[df.B > 0, \"C\"] = 0"
   ]
  },
  {
   "cell_type": "code",
   "execution_count": 22,
   "metadata": {},
   "outputs": [
    {
     "data": {
      "text/html": [
       "<div>\n",
       "<table border=\"1\" class=\"dataframe\">\n",
       "  <thead>\n",
       "    <tr style=\"text-align: right;\">\n",
       "      <th></th>\n",
       "      <th>A</th>\n",
       "      <th>B</th>\n",
       "      <th>C</th>\n",
       "    </tr>\n",
       "  </thead>\n",
       "  <tbody>\n",
       "    <tr>\n",
       "      <th>1</th>\n",
       "      <td>-0.390619</td>\n",
       "      <td>-0.507412</td>\n",
       "      <td>-0.187132</td>\n",
       "    </tr>\n",
       "    <tr>\n",
       "      <th>2</th>\n",
       "      <td>0.930274</td>\n",
       "      <td>-1.000000</td>\n",
       "      <td>0.214068</td>\n",
       "    </tr>\n",
       "    <tr>\n",
       "      <th>3</th>\n",
       "      <td>-0.935295</td>\n",
       "      <td>1.952256</td>\n",
       "      <td>0.000000</td>\n",
       "    </tr>\n",
       "    <tr>\n",
       "      <th>4</th>\n",
       "      <td>1.128447</td>\n",
       "      <td>-0.470233</td>\n",
       "      <td>-0.116660</td>\n",
       "    </tr>\n",
       "    <tr>\n",
       "      <th>5</th>\n",
       "      <td>1.601447</td>\n",
       "      <td>-0.329149</td>\n",
       "      <td>0.121009</td>\n",
       "    </tr>\n",
       "  </tbody>\n",
       "</table>\n",
       "</div>"
      ],
      "text/plain": [
       "          A         B         C\n",
       "1 -0.390619 -0.507412 -0.187132\n",
       "2  0.930274 -1.000000  0.214068\n",
       "3 -0.935295  1.952256  0.000000\n",
       "4  1.128447 -0.470233 -0.116660\n",
       "5  1.601447 -0.329149  0.121009"
      ]
     },
     "execution_count": 22,
     "metadata": {},
     "output_type": "execute_result"
    }
   ],
   "source": [
    "df"
   ]
  },
  {
   "cell_type": "markdown",
   "metadata": {},
   "source": [
    "就是這樣!"
   ]
  },
  {
   "cell_type": "markdown",
   "metadata": {},
   "source": [
    "## 09-5 讀入真正的股票資料"
   ]
  },
  {
   "cell_type": "markdown",
   "metadata": {},
   "source": [
    "自 `pandas` 0.19.0 版開始, `pandas.io.data` 和 `pandas.io.wb` 已經從 `pandas` 系統移出, 獨立在\n",
    "\n",
    "    pandas_datareader\n",
    "    \n",
    "套件中。\n",
    "\n",
    "使用 Anaconda 的話, 請用標準安裝方式安裝 `pandas-datareader`:\n",
    "    \n",
    "    conda install pandas-datareader"
   ]
  },
  {
   "cell_type": "code",
   "execution_count": 23,
   "metadata": {
    "collapsed": true
   },
   "outputs": [],
   "source": [
    "import pandas_datareader.data as web\n",
    "import datetime"
   ]
  },
  {
   "cell_type": "markdown",
   "metadata": {},
   "source": [
    "這裡除了我們說的 `pandas_datareader`, 還有 `datetime` 是標準的日期套件。\n",
    "\n",
    "假設我們要 Apple 的股票, 日期從 2010 年 1 月 1 日, 2016 年 10 月 31 日。"
   ]
  },
  {
   "cell_type": "code",
   "execution_count": 24,
   "metadata": {
    "collapsed": true
   },
   "outputs": [],
   "source": [
    "symbol = \"AAPL\"\n",
    "day_start = datetime.datetime(2010,1,1)\n",
    "day_end = datetime.datetime(2016,10,31)"
   ]
  },
  {
   "cell_type": "code",
   "execution_count": 25,
   "metadata": {
    "collapsed": true
   },
   "outputs": [],
   "source": [
    "df = web.DataReader(symbol, 'yahoo', day_start, day_end)"
   ]
  },
  {
   "cell_type": "code",
   "execution_count": 26,
   "metadata": {},
   "outputs": [
    {
     "data": {
      "text/html": [
       "<div>\n",
       "<table border=\"1\" class=\"dataframe\">\n",
       "  <thead>\n",
       "    <tr style=\"text-align: right;\">\n",
       "      <th></th>\n",
       "      <th>Open</th>\n",
       "      <th>High</th>\n",
       "      <th>Low</th>\n",
       "      <th>Close</th>\n",
       "      <th>Volume</th>\n",
       "      <th>Adj Close</th>\n",
       "    </tr>\n",
       "    <tr>\n",
       "      <th>Date</th>\n",
       "      <th></th>\n",
       "      <th></th>\n",
       "      <th></th>\n",
       "      <th></th>\n",
       "      <th></th>\n",
       "      <th></th>\n",
       "    </tr>\n",
       "  </thead>\n",
       "  <tbody>\n",
       "    <tr>\n",
       "      <th>2010-01-04</th>\n",
       "      <td>213.429998</td>\n",
       "      <td>214.499996</td>\n",
       "      <td>212.380001</td>\n",
       "      <td>214.009998</td>\n",
       "      <td>123432400</td>\n",
       "      <td>27.847252</td>\n",
       "    </tr>\n",
       "    <tr>\n",
       "      <th>2010-01-05</th>\n",
       "      <td>214.599998</td>\n",
       "      <td>215.589994</td>\n",
       "      <td>213.249994</td>\n",
       "      <td>214.379993</td>\n",
       "      <td>150476200</td>\n",
       "      <td>27.895396</td>\n",
       "    </tr>\n",
       "    <tr>\n",
       "      <th>2010-01-06</th>\n",
       "      <td>214.379993</td>\n",
       "      <td>215.230000</td>\n",
       "      <td>210.750004</td>\n",
       "      <td>210.969995</td>\n",
       "      <td>138040000</td>\n",
       "      <td>27.451683</td>\n",
       "    </tr>\n",
       "    <tr>\n",
       "      <th>2010-01-07</th>\n",
       "      <td>211.750000</td>\n",
       "      <td>212.000006</td>\n",
       "      <td>209.050005</td>\n",
       "      <td>210.580000</td>\n",
       "      <td>119282800</td>\n",
       "      <td>27.400936</td>\n",
       "    </tr>\n",
       "    <tr>\n",
       "      <th>2010-01-08</th>\n",
       "      <td>210.299994</td>\n",
       "      <td>212.000006</td>\n",
       "      <td>209.060005</td>\n",
       "      <td>211.980005</td>\n",
       "      <td>111902700</td>\n",
       "      <td>27.583106</td>\n",
       "    </tr>\n",
       "  </tbody>\n",
       "</table>\n",
       "</div>"
      ],
      "text/plain": [
       "                  Open        High         Low       Close     Volume  \\\n",
       "Date                                                                    \n",
       "2010-01-04  213.429998  214.499996  212.380001  214.009998  123432400   \n",
       "2010-01-05  214.599998  215.589994  213.249994  214.379993  150476200   \n",
       "2010-01-06  214.379993  215.230000  210.750004  210.969995  138040000   \n",
       "2010-01-07  211.750000  212.000006  209.050005  210.580000  119282800   \n",
       "2010-01-08  210.299994  212.000006  209.060005  211.980005  111902700   \n",
       "\n",
       "            Adj Close  \n",
       "Date                   \n",
       "2010-01-04  27.847252  \n",
       "2010-01-05  27.895396  \n",
       "2010-01-06  27.451683  \n",
       "2010-01-07  27.400936  \n",
       "2010-01-08  27.583106  "
      ]
     },
     "execution_count": 26,
     "metadata": {},
     "output_type": "execute_result"
    }
   ],
   "source": [
    "df.head()"
   ]
  },
  {
   "cell_type": "code",
   "execution_count": 27,
   "metadata": {},
   "outputs": [
    {
     "data": {
      "text/plain": [
       "<matplotlib.axes._subplots.AxesSubplot at 0x11870a828>"
      ]
     },
     "execution_count": 27,
     "metadata": {},
     "output_type": "execute_result"
    },
    {
     "data": {
      "image/png": "[encoded data removed]",
      "text/plain": [
       "<matplotlib.figure.Figure at 0x1186e0cf8>"
      ]
     },
     "metadata": {},
     "output_type": "display_data"
    }
   ],
   "source": [
    "df.Close.plot()"
   ]
  },
  {
   "cell_type": "markdown",
   "metadata": {},
   "source": [
    "## 09-6 一些基本的計算"
   ]
  },
  {
   "cell_type": "markdown",
   "metadata": {},
   "source": [
    "#### 差分\n",
    "\n",
    "我們來考慮股票的計算。其實用點數有時不太容易分析, 我們更重要是看漲還是跌。\n",
    "\n",
    "換句話說, 我們重視的是\n",
    "\n",
    "$$S_{j} - S_{j-1}$$\n",
    "\n",
    "也就是當期和上一期的差別。這樣怎麼算呢?"
   ]
  },
  {
   "cell_type": "code",
   "execution_count": 28,
   "metadata": {},
   "outputs": [],
   "source": [
    "df[\"Diff\"] = df.Close.diff()"
   ]
  },
  {
   "cell_type": "code",
   "execution_count": 29,
   "metadata": {},
   "outputs": [
    {
     "data": {
      "text/html": [
       "<div>\n",
       "<table border=\"1\" class=\"dataframe\">\n",
       "  <thead>\n",
       "    <tr style=\"text-align: right;\">\n",
       "      <th></th>\n",
       "      <th>Open</th>\n",
       "      <th>High</th>\n",
       "      <th>Low</th>\n",
       "      <th>Close</th>\n",
       "      <th>Volume</th>\n",
       "      <th>Adj Close</th>\n",
       "      <th>Diff</th>\n",
       "    </tr>\n",
       "    <tr>\n",
       "      <th>Date</th>\n",
       "      <th></th>\n",
       "      <th></th>\n",
       "      <th></th>\n",
       "      <th></th>\n",
       "      <th></th>\n",
       "      <th></th>\n",
       "      <th></th>\n",
       "    </tr>\n",
       "  </thead>\n",
       "  <tbody>\n",
       "    <tr>\n",
       "      <th>2010-01-04</th>\n",
       "      <td>213.429998</td>\n",
       "      <td>214.499996</td>\n",
       "      <td>212.380001</td>\n",
       "      <td>214.009998</td>\n",
       "      <td>123432400</td>\n",
       "      <td>27.847252</td>\n",
       "      <td>NaN</td>\n",
       "    </tr>\n",
       "    <tr>\n",
       "      <th>2010-01-05</th>\n",
       "      <td>214.599998</td>\n",
       "      <td>215.589994</td>\n",
       "      <td>213.249994</td>\n",
       "      <td>214.379993</td>\n",
       "      <td>150476200</td>\n",
       "      <td>27.895396</td>\n",
       "      <td>0.369995</td>\n",
       "    </tr>\n",
       "    <tr>\n",
       "      <th>2010-01-06</th>\n",
       "      <td>214.379993</td>\n",
       "      <td>215.230000</td>\n",
       "      <td>210.750004</td>\n",
       "      <td>210.969995</td>\n",
       "      <td>138040000</td>\n",
       "      <td>27.451683</td>\n",
       "      <td>-3.409998</td>\n",
       "    </tr>\n",
       "    <tr>\n",
       "      <th>2010-01-07</th>\n",
       "      <td>211.750000</td>\n",
       "      <td>212.000006</td>\n",
       "      <td>209.050005</td>\n",
       "      <td>210.580000</td>\n",
       "      <td>119282800</td>\n",
       "      <td>27.400936</td>\n",
       "      <td>-0.389995</td>\n",
       "    </tr>\n",
       "    <tr>\n",
       "      <th>2010-01-08</th>\n",
       "      <td>210.299994</td>\n",
       "      <td>212.000006</td>\n",
       "      <td>209.060005</td>\n",
       "      <td>211.980005</td>\n",
       "      <td>111902700</td>\n",
       "      <td>27.583106</td>\n",
       "      <td>1.400005</td>\n",
       "    </tr>\n",
       "  </tbody>\n",
       "</table>\n",
       "</div>"
      ],
      "text/plain": [
       "                  Open        High         Low       Close     Volume  \\\n",
       "Date                                                                    \n",
       "2010-01-04  213.429998  214.499996  212.380001  214.009998  123432400   \n",
       "2010-01-05  214.599998  215.589994  213.249994  214.379993  150476200   \n",
       "2010-01-06  214.379993  215.230000  210.750004  210.969995  138040000   \n",
       "2010-01-07  211.750000  212.000006  209.050005  210.580000  119282800   \n",
       "2010-01-08  210.299994  212.000006  209.060005  211.980005  111902700   \n",
       "\n",
       "            Adj Close      Diff  \n",
       "Date                             \n",
       "2010-01-04  27.847252       NaN  \n",
       "2010-01-05  27.895396  0.369995  \n",
       "2010-01-06  27.451683 -3.409998  \n",
       "2010-01-07  27.400936 -0.389995  \n",
       "2010-01-08  27.583106  1.400005  "
      ]
     },
     "execution_count": 29,
     "metadata": {},
     "output_type": "execute_result"
    }
   ],
   "source": [
    "df.head()"
   ]
  },
  {
   "cell_type": "code",
   "execution_count": 30,
   "metadata": {},
   "outputs": [
    {
     "data": {
      "text/plain": [
       "<matplotlib.axes._subplots.AxesSubplot at 0x1186f9390>"
      ]
     },
     "execution_count": 30,
     "metadata": {},
     "output_type": "execute_result"
    },
    {
     "data": {
      "image/png": "[encoded data removed]",
      "text/plain": [
       "<matplotlib.figure.Figure at 0x11871c550>"
      ]
     },
     "metadata": {},
     "output_type": "display_data"
    }
   ],
   "source": [
    "df.Diff.plot()"
   ]
  },
  {
   "cell_type": "markdown",
   "metadata": {},
   "source": [
    "#### 事實上\n",
    "\n",
    "更有道理的是取這個值:\n",
    "\n",
    "$$\\frac{S_j - S_{j-1}}{S_{j-1}}$$"
   ]
  },
  {
   "cell_type": "code",
   "execution_count": 31,
   "metadata": {
    "collapsed": true
   },
   "outputs": [],
   "source": [
    "df[\"Rel_Diff\"] = df.Diff / df.Close"
   ]
  },
  {
   "cell_type": "markdown",
   "metadata": {},
   "source": [
    "#### drop 大跳動!!\n",
    "\n",
    "我們把大跳動的值拿掉 (今天好專業的懷傑告訴我們那是 Apple 股票一拆七所以才有這狂掉五百多點的情況)。"
   ]
  },
  {
   "cell_type": "code",
   "execution_count": 32,
   "metadata": {},
   "outputs": [
    {
     "data": {
      "text/html": [
       "<div>\n",
       "<table border=\"1\" class=\"dataframe\">\n",
       "  <thead>\n",
       "    <tr style=\"text-align: right;\">\n",
       "      <th></th>\n",
       "      <th>Open</th>\n",
       "      <th>High</th>\n",
       "      <th>Low</th>\n",
       "      <th>Close</th>\n",
       "      <th>Volume</th>\n",
       "      <th>Adj Close</th>\n",
       "      <th>Diff</th>\n",
       "      <th>Rel_Diff</th>\n",
       "    </tr>\n",
       "    <tr>\n",
       "      <th>Date</th>\n",
       "      <th></th>\n",
       "      <th></th>\n",
       "      <th></th>\n",
       "      <th></th>\n",
       "      <th></th>\n",
       "      <th></th>\n",
       "      <th></th>\n",
       "      <th></th>\n",
       "    </tr>\n",
       "  </thead>\n",
       "  <tbody>\n",
       "    <tr>\n",
       "      <th>2010-01-04</th>\n",
       "      <td>213.429998</td>\n",
       "      <td>214.499996</td>\n",
       "      <td>212.380001</td>\n",
       "      <td>214.009998</td>\n",
       "      <td>123432400</td>\n",
       "      <td>27.847252</td>\n",
       "      <td>NaN</td>\n",
       "      <td>NaN</td>\n",
       "    </tr>\n",
       "    <tr>\n",
       "      <th>2010-01-05</th>\n",
       "      <td>214.599998</td>\n",
       "      <td>215.589994</td>\n",
       "      <td>213.249994</td>\n",
       "      <td>214.379993</td>\n",
       "      <td>150476200</td>\n",
       "      <td>27.895396</td>\n",
       "      <td>0.369995</td>\n",
       "      <td>0.001726</td>\n",
       "    </tr>\n",
       "    <tr>\n",
       "      <th>2010-01-06</th>\n",
       "      <td>214.379993</td>\n",
       "      <td>215.230000</td>\n",
       "      <td>210.750004</td>\n",
       "      <td>210.969995</td>\n",
       "      <td>138040000</td>\n",
       "      <td>27.451683</td>\n",
       "      <td>-3.409998</td>\n",
       "      <td>-0.016163</td>\n",
       "    </tr>\n",
       "    <tr>\n",
       "      <th>2010-01-07</th>\n",
       "      <td>211.750000</td>\n",
       "      <td>212.000006</td>\n",
       "      <td>209.050005</td>\n",
       "      <td>210.580000</td>\n",
       "      <td>119282800</td>\n",
       "      <td>27.400936</td>\n",
       "      <td>-0.389995</td>\n",
       "      <td>-0.001852</td>\n",
       "    </tr>\n",
       "    <tr>\n",
       "      <th>2010-01-08</th>\n",
       "      <td>210.299994</td>\n",
       "      <td>212.000006</td>\n",
       "      <td>209.060005</td>\n",
       "      <td>211.980005</td>\n",
       "      <td>111902700</td>\n",
       "      <td>27.583106</td>\n",
       "      <td>1.400005</td>\n",
       "      <td>0.006604</td>\n",
       "    </tr>\n",
       "    <tr>\n",
       "      <th>2010-01-11</th>\n",
       "      <td>212.799997</td>\n",
       "      <td>213.000002</td>\n",
       "      <td>208.450005</td>\n",
       "      <td>210.110003</td>\n",
       "      <td>115557400</td>\n",
       "      <td>27.339779</td>\n",
       "      <td>-1.870002</td>\n",
       "      <td>-0.008900</td>\n",
       "    </tr>\n",
       "    <tr>\n",
       "      <th>2010-01-12</th>\n",
       "      <td>209.189995</td>\n",
       "      <td>209.769995</td>\n",
       "      <td>206.419998</td>\n",
       "      <td>207.720001</td>\n",
       "      <td>148614900</td>\n",
       "      <td>27.028789</td>\n",
       "      <td>-2.390002</td>\n",
       "      <td>-0.011506</td>\n",
       "    </tr>\n",
       "    <tr>\n",
       "      <th>2010-01-13</th>\n",
       "      <td>207.870005</td>\n",
       "      <td>210.929995</td>\n",
       "      <td>204.099998</td>\n",
       "      <td>210.650002</td>\n",
       "      <td>151473000</td>\n",
       "      <td>27.410045</td>\n",
       "      <td>2.930001</td>\n",
       "      <td>0.013909</td>\n",
       "    </tr>\n",
       "    <tr>\n",
       "      <th>2010-01-14</th>\n",
       "      <td>210.110003</td>\n",
       "      <td>210.459997</td>\n",
       "      <td>209.020004</td>\n",
       "      <td>209.430000</td>\n",
       "      <td>108223500</td>\n",
       "      <td>27.251297</td>\n",
       "      <td>-1.220002</td>\n",
       "      <td>-0.005825</td>\n",
       "    </tr>\n",
       "    <tr>\n",
       "      <th>2010-01-15</th>\n",
       "      <td>210.929995</td>\n",
       "      <td>211.599997</td>\n",
       "      <td>205.869999</td>\n",
       "      <td>205.930000</td>\n",
       "      <td>148516900</td>\n",
       "      <td>26.795872</td>\n",
       "      <td>-3.500000</td>\n",
       "      <td>-0.016996</td>\n",
       "    </tr>\n",
       "    <tr>\n",
       "      <th>2010-01-19</th>\n",
       "      <td>208.330002</td>\n",
       "      <td>215.189999</td>\n",
       "      <td>207.240004</td>\n",
       "      <td>215.039995</td>\n",
       "      <td>182501900</td>\n",
       "      <td>27.981276</td>\n",
       "      <td>9.109995</td>\n",
       "      <td>0.042364</td>\n",
       "    </tr>\n",
       "    <tr>\n",
       "      <th>2010-01-20</th>\n",
       "      <td>214.910006</td>\n",
       "      <td>215.549994</td>\n",
       "      <td>209.500002</td>\n",
       "      <td>211.730000</td>\n",
       "      <td>153038200</td>\n",
       "      <td>27.550575</td>\n",
       "      <td>-3.309995</td>\n",
       "      <td>-0.015633</td>\n",
       "    </tr>\n",
       "    <tr>\n",
       "      <th>2010-01-21</th>\n",
       "      <td>212.079994</td>\n",
       "      <td>213.309996</td>\n",
       "      <td>207.210003</td>\n",
       "      <td>208.069996</td>\n",
       "      <td>152038600</td>\n",
       "      <td>27.074331</td>\n",
       "      <td>-3.660004</td>\n",
       "      <td>-0.017590</td>\n",
       "    </tr>\n",
       "    <tr>\n",
       "      <th>2010-01-22</th>\n",
       "      <td>206.780006</td>\n",
       "      <td>207.499996</td>\n",
       "      <td>197.160000</td>\n",
       "      <td>197.750000</td>\n",
       "      <td>220441900</td>\n",
       "      <td>25.731480</td>\n",
       "      <td>-10.319996</td>\n",
       "      <td>-0.052187</td>\n",
       "    </tr>\n",
       "    <tr>\n",
       "      <th>2010-01-25</th>\n",
       "      <td>202.510002</td>\n",
       "      <td>204.699999</td>\n",
       "      <td>200.190002</td>\n",
       "      <td>203.070002</td>\n",
       "      <td>266424900</td>\n",
       "      <td>26.423726</td>\n",
       "      <td>5.320002</td>\n",
       "      <td>0.026198</td>\n",
       "    </tr>\n",
       "    <tr>\n",
       "      <th>2010-01-26</th>\n",
       "      <td>205.950001</td>\n",
       "      <td>213.710005</td>\n",
       "      <td>202.580004</td>\n",
       "      <td>205.940001</td>\n",
       "      <td>466777500</td>\n",
       "      <td>26.797173</td>\n",
       "      <td>2.869999</td>\n",
       "      <td>0.013936</td>\n",
       "    </tr>\n",
       "    <tr>\n",
       "      <th>2010-01-27</th>\n",
       "      <td>206.849995</td>\n",
       "      <td>210.580000</td>\n",
       "      <td>199.530001</td>\n",
       "      <td>207.880005</td>\n",
       "      <td>430642100</td>\n",
       "      <td>27.049609</td>\n",
       "      <td>1.940004</td>\n",
       "      <td>0.009332</td>\n",
       "    </tr>\n",
       "    <tr>\n",
       "      <th>2010-01-28</th>\n",
       "      <td>204.930004</td>\n",
       "      <td>205.500004</td>\n",
       "      <td>198.699995</td>\n",
       "      <td>199.289995</td>\n",
       "      <td>293375600</td>\n",
       "      <td>25.931866</td>\n",
       "      <td>-8.590010</td>\n",
       "      <td>-0.043103</td>\n",
       "    </tr>\n",
       "    <tr>\n",
       "      <th>2010-01-29</th>\n",
       "      <td>201.079996</td>\n",
       "      <td>202.199995</td>\n",
       "      <td>190.250002</td>\n",
       "      <td>192.060003</td>\n",
       "      <td>311488100</td>\n",
       "      <td>24.991091</td>\n",
       "      <td>-7.229992</td>\n",
       "      <td>-0.037644</td>\n",
       "    </tr>\n",
       "    <tr>\n",
       "      <th>2010-02-01</th>\n",
       "      <td>192.369997</td>\n",
       "      <td>196.000000</td>\n",
       "      <td>191.299999</td>\n",
       "      <td>194.729998</td>\n",
       "      <td>187469100</td>\n",
       "      <td>25.338514</td>\n",
       "      <td>2.669995</td>\n",
       "      <td>0.013711</td>\n",
       "    </tr>\n",
       "    <tr>\n",
       "      <th>2010-02-02</th>\n",
       "      <td>195.909998</td>\n",
       "      <td>196.319994</td>\n",
       "      <td>193.379993</td>\n",
       "      <td>195.859997</td>\n",
       "      <td>174585600</td>\n",
       "      <td>25.485551</td>\n",
       "      <td>1.129999</td>\n",
       "      <td>0.005769</td>\n",
       "    </tr>\n",
       "    <tr>\n",
       "      <th>2010-02-03</th>\n",
       "      <td>195.169994</td>\n",
       "      <td>200.200003</td>\n",
       "      <td>194.420004</td>\n",
       "      <td>199.229994</td>\n",
       "      <td>153832000</td>\n",
       "      <td>25.924059</td>\n",
       "      <td>3.369997</td>\n",
       "      <td>0.016915</td>\n",
       "    </tr>\n",
       "    <tr>\n",
       "      <th>2010-02-04</th>\n",
       "      <td>196.730003</td>\n",
       "      <td>198.370001</td>\n",
       "      <td>191.570005</td>\n",
       "      <td>192.050003</td>\n",
       "      <td>189413000</td>\n",
       "      <td>24.989789</td>\n",
       "      <td>-7.179991</td>\n",
       "      <td>-0.037386</td>\n",
       "    </tr>\n",
       "    <tr>\n",
       "      <th>2010-02-05</th>\n",
       "      <td>192.630003</td>\n",
       "      <td>196.000000</td>\n",
       "      <td>190.850002</td>\n",
       "      <td>195.460001</td>\n",
       "      <td>212576700</td>\n",
       "      <td>25.433503</td>\n",
       "      <td>3.409998</td>\n",
       "      <td>0.017446</td>\n",
       "    </tr>\n",
       "    <tr>\n",
       "      <th>2010-02-08</th>\n",
       "      <td>195.690006</td>\n",
       "      <td>197.880003</td>\n",
       "      <td>193.999994</td>\n",
       "      <td>194.119997</td>\n",
       "      <td>119567700</td>\n",
       "      <td>25.259140</td>\n",
       "      <td>-1.340004</td>\n",
       "      <td>-0.006903</td>\n",
       "    </tr>\n",
       "    <tr>\n",
       "      <th>2010-02-09</th>\n",
       "      <td>196.419996</td>\n",
       "      <td>197.499994</td>\n",
       "      <td>194.749998</td>\n",
       "      <td>196.190004</td>\n",
       "      <td>158221700</td>\n",
       "      <td>25.528492</td>\n",
       "      <td>2.070007</td>\n",
       "      <td>0.010551</td>\n",
       "    </tr>\n",
       "    <tr>\n",
       "      <th>2010-02-10</th>\n",
       "      <td>195.889997</td>\n",
       "      <td>196.600000</td>\n",
       "      <td>194.260000</td>\n",
       "      <td>195.120007</td>\n",
       "      <td>92590400</td>\n",
       "      <td>25.389262</td>\n",
       "      <td>-1.069997</td>\n",
       "      <td>-0.005484</td>\n",
       "    </tr>\n",
       "    <tr>\n",
       "      <th>2010-02-11</th>\n",
       "      <td>194.880001</td>\n",
       "      <td>199.750006</td>\n",
       "      <td>194.059996</td>\n",
       "      <td>198.669994</td>\n",
       "      <td>137586400</td>\n",
       "      <td>25.851191</td>\n",
       "      <td>3.549987</td>\n",
       "      <td>0.017869</td>\n",
       "    </tr>\n",
       "    <tr>\n",
       "      <th>2010-02-12</th>\n",
       "      <td>198.109995</td>\n",
       "      <td>201.639996</td>\n",
       "      <td>195.500002</td>\n",
       "      <td>200.379993</td>\n",
       "      <td>163867200</td>\n",
       "      <td>26.073698</td>\n",
       "      <td>1.709999</td>\n",
       "      <td>0.008534</td>\n",
       "    </tr>\n",
       "    <tr>\n",
       "      <th>2010-02-16</th>\n",
       "      <td>201.940002</td>\n",
       "      <td>203.690002</td>\n",
       "      <td>201.520006</td>\n",
       "      <td>203.399996</td>\n",
       "      <td>135934400</td>\n",
       "      <td>26.466665</td>\n",
       "      <td>3.020003</td>\n",
       "      <td>0.014848</td>\n",
       "    </tr>\n",
       "    <tr>\n",
       "      <th>...</th>\n",
       "      <td>...</td>\n",
       "      <td>...</td>\n",
       "      <td>...</td>\n",
       "      <td>...</td>\n",
       "      <td>...</td>\n",
       "      <td>...</td>\n",
       "      <td>...</td>\n",
       "      <td>...</td>\n",
       "    </tr>\n",
       "    <tr>\n",
       "      <th>2016-09-20</th>\n",
       "      <td>113.050003</td>\n",
       "      <td>114.120003</td>\n",
       "      <td>112.510002</td>\n",
       "      <td>113.570000</td>\n",
       "      <td>34514300</td>\n",
       "      <td>112.989884</td>\n",
       "      <td>-0.010002</td>\n",
       "      <td>-0.000088</td>\n",
       "    </tr>\n",
       "    <tr>\n",
       "      <th>2016-09-21</th>\n",
       "      <td>113.849998</td>\n",
       "      <td>113.989998</td>\n",
       "      <td>112.440002</td>\n",
       "      <td>113.550003</td>\n",
       "      <td>36003200</td>\n",
       "      <td>112.969990</td>\n",
       "      <td>-0.019997</td>\n",
       "      <td>-0.000176</td>\n",
       "    </tr>\n",
       "    <tr>\n",
       "      <th>2016-09-22</th>\n",
       "      <td>114.349998</td>\n",
       "      <td>114.940002</td>\n",
       "      <td>114.000000</td>\n",
       "      <td>114.620003</td>\n",
       "      <td>31074000</td>\n",
       "      <td>114.034524</td>\n",
       "      <td>1.070000</td>\n",
       "      <td>0.009335</td>\n",
       "    </tr>\n",
       "    <tr>\n",
       "      <th>2016-09-23</th>\n",
       "      <td>114.419998</td>\n",
       "      <td>114.790001</td>\n",
       "      <td>111.550003</td>\n",
       "      <td>112.709999</td>\n",
       "      <td>52481200</td>\n",
       "      <td>112.134277</td>\n",
       "      <td>-1.910004</td>\n",
       "      <td>-0.016946</td>\n",
       "    </tr>\n",
       "    <tr>\n",
       "      <th>2016-09-26</th>\n",
       "      <td>111.639999</td>\n",
       "      <td>113.389999</td>\n",
       "      <td>111.550003</td>\n",
       "      <td>112.879997</td>\n",
       "      <td>29869400</td>\n",
       "      <td>112.303406</td>\n",
       "      <td>0.169998</td>\n",
       "      <td>0.001506</td>\n",
       "    </tr>\n",
       "    <tr>\n",
       "      <th>2016-09-27</th>\n",
       "      <td>113.000000</td>\n",
       "      <td>113.180000</td>\n",
       "      <td>112.339996</td>\n",
       "      <td>113.089996</td>\n",
       "      <td>24607400</td>\n",
       "      <td>112.512333</td>\n",
       "      <td>0.209999</td>\n",
       "      <td>0.001857</td>\n",
       "    </tr>\n",
       "    <tr>\n",
       "      <th>2016-09-28</th>\n",
       "      <td>113.690002</td>\n",
       "      <td>114.639999</td>\n",
       "      <td>113.430000</td>\n",
       "      <td>113.949997</td>\n",
       "      <td>29641100</td>\n",
       "      <td>113.367940</td>\n",
       "      <td>0.860001</td>\n",
       "      <td>0.007547</td>\n",
       "    </tr>\n",
       "    <tr>\n",
       "      <th>2016-09-29</th>\n",
       "      <td>113.160004</td>\n",
       "      <td>113.800003</td>\n",
       "      <td>111.800003</td>\n",
       "      <td>112.180000</td>\n",
       "      <td>35887000</td>\n",
       "      <td>111.606985</td>\n",
       "      <td>-1.769997</td>\n",
       "      <td>-0.015778</td>\n",
       "    </tr>\n",
       "    <tr>\n",
       "      <th>2016-09-30</th>\n",
       "      <td>112.459999</td>\n",
       "      <td>113.370003</td>\n",
       "      <td>111.800003</td>\n",
       "      <td>113.050003</td>\n",
       "      <td>36379100</td>\n",
       "      <td>112.472544</td>\n",
       "      <td>0.870003</td>\n",
       "      <td>0.007696</td>\n",
       "    </tr>\n",
       "    <tr>\n",
       "      <th>2016-10-03</th>\n",
       "      <td>112.709999</td>\n",
       "      <td>113.050003</td>\n",
       "      <td>112.279999</td>\n",
       "      <td>112.519997</td>\n",
       "      <td>21701800</td>\n",
       "      <td>111.945245</td>\n",
       "      <td>-0.530006</td>\n",
       "      <td>-0.004710</td>\n",
       "    </tr>\n",
       "    <tr>\n",
       "      <th>2016-10-04</th>\n",
       "      <td>113.059998</td>\n",
       "      <td>114.309998</td>\n",
       "      <td>112.629997</td>\n",
       "      <td>113.000000</td>\n",
       "      <td>29736800</td>\n",
       "      <td>112.422796</td>\n",
       "      <td>0.480003</td>\n",
       "      <td>0.004248</td>\n",
       "    </tr>\n",
       "    <tr>\n",
       "      <th>2016-10-05</th>\n",
       "      <td>113.400002</td>\n",
       "      <td>113.660004</td>\n",
       "      <td>112.690002</td>\n",
       "      <td>113.050003</td>\n",
       "      <td>21453100</td>\n",
       "      <td>112.472544</td>\n",
       "      <td>0.050003</td>\n",
       "      <td>0.000442</td>\n",
       "    </tr>\n",
       "    <tr>\n",
       "      <th>2016-10-06</th>\n",
       "      <td>113.699997</td>\n",
       "      <td>114.339996</td>\n",
       "      <td>113.129997</td>\n",
       "      <td>113.889999</td>\n",
       "      <td>28779300</td>\n",
       "      <td>113.308249</td>\n",
       "      <td>0.839996</td>\n",
       "      <td>0.007376</td>\n",
       "    </tr>\n",
       "    <tr>\n",
       "      <th>2016-10-07</th>\n",
       "      <td>114.309998</td>\n",
       "      <td>114.559998</td>\n",
       "      <td>113.510002</td>\n",
       "      <td>114.059998</td>\n",
       "      <td>24358400</td>\n",
       "      <td>113.477379</td>\n",
       "      <td>0.169999</td>\n",
       "      <td>0.001490</td>\n",
       "    </tr>\n",
       "    <tr>\n",
       "      <th>2016-10-10</th>\n",
       "      <td>115.019997</td>\n",
       "      <td>116.750000</td>\n",
       "      <td>114.720001</td>\n",
       "      <td>116.050003</td>\n",
       "      <td>36236000</td>\n",
       "      <td>115.457220</td>\n",
       "      <td>1.990005</td>\n",
       "      <td>0.017148</td>\n",
       "    </tr>\n",
       "    <tr>\n",
       "      <th>2016-10-11</th>\n",
       "      <td>117.699997</td>\n",
       "      <td>118.690002</td>\n",
       "      <td>116.199997</td>\n",
       "      <td>116.300003</td>\n",
       "      <td>64041000</td>\n",
       "      <td>115.705943</td>\n",
       "      <td>0.250000</td>\n",
       "      <td>0.002150</td>\n",
       "    </tr>\n",
       "    <tr>\n",
       "      <th>2016-10-12</th>\n",
       "      <td>117.349998</td>\n",
       "      <td>117.980003</td>\n",
       "      <td>116.750000</td>\n",
       "      <td>117.339996</td>\n",
       "      <td>37586800</td>\n",
       "      <td>116.740624</td>\n",
       "      <td>1.039993</td>\n",
       "      <td>0.008863</td>\n",
       "    </tr>\n",
       "    <tr>\n",
       "      <th>2016-10-13</th>\n",
       "      <td>116.790001</td>\n",
       "      <td>117.440002</td>\n",
       "      <td>115.720001</td>\n",
       "      <td>116.980003</td>\n",
       "      <td>35192400</td>\n",
       "      <td>116.382470</td>\n",
       "      <td>-0.359993</td>\n",
       "      <td>-0.003077</td>\n",
       "    </tr>\n",
       "    <tr>\n",
       "      <th>2016-10-14</th>\n",
       "      <td>117.879997</td>\n",
       "      <td>118.169998</td>\n",
       "      <td>117.129997</td>\n",
       "      <td>117.629997</td>\n",
       "      <td>35652200</td>\n",
       "      <td>117.029143</td>\n",
       "      <td>0.649994</td>\n",
       "      <td>0.005526</td>\n",
       "    </tr>\n",
       "    <tr>\n",
       "      <th>2016-10-17</th>\n",
       "      <td>117.330002</td>\n",
       "      <td>117.839996</td>\n",
       "      <td>116.779999</td>\n",
       "      <td>117.550003</td>\n",
       "      <td>23624900</td>\n",
       "      <td>116.949558</td>\n",
       "      <td>-0.079994</td>\n",
       "      <td>-0.000681</td>\n",
       "    </tr>\n",
       "    <tr>\n",
       "      <th>2016-10-18</th>\n",
       "      <td>118.180000</td>\n",
       "      <td>118.209999</td>\n",
       "      <td>117.449997</td>\n",
       "      <td>117.470001</td>\n",
       "      <td>24553500</td>\n",
       "      <td>116.869965</td>\n",
       "      <td>-0.080002</td>\n",
       "      <td>-0.000681</td>\n",
       "    </tr>\n",
       "    <tr>\n",
       "      <th>2016-10-19</th>\n",
       "      <td>117.250000</td>\n",
       "      <td>117.760002</td>\n",
       "      <td>113.800003</td>\n",
       "      <td>117.120003</td>\n",
       "      <td>20034600</td>\n",
       "      <td>116.521754</td>\n",
       "      <td>-0.349998</td>\n",
       "      <td>-0.002988</td>\n",
       "    </tr>\n",
       "    <tr>\n",
       "      <th>2016-10-20</th>\n",
       "      <td>116.860001</td>\n",
       "      <td>117.379997</td>\n",
       "      <td>116.330002</td>\n",
       "      <td>117.059998</td>\n",
       "      <td>24125800</td>\n",
       "      <td>116.462055</td>\n",
       "      <td>-0.060005</td>\n",
       "      <td>-0.000513</td>\n",
       "    </tr>\n",
       "    <tr>\n",
       "      <th>2016-10-21</th>\n",
       "      <td>116.809998</td>\n",
       "      <td>116.910004</td>\n",
       "      <td>116.279999</td>\n",
       "      <td>116.599998</td>\n",
       "      <td>23192700</td>\n",
       "      <td>116.004406</td>\n",
       "      <td>-0.460000</td>\n",
       "      <td>-0.003945</td>\n",
       "    </tr>\n",
       "    <tr>\n",
       "      <th>2016-10-24</th>\n",
       "      <td>117.099998</td>\n",
       "      <td>117.739998</td>\n",
       "      <td>117.000000</td>\n",
       "      <td>117.650002</td>\n",
       "      <td>23538700</td>\n",
       "      <td>117.049045</td>\n",
       "      <td>1.050004</td>\n",
       "      <td>0.008925</td>\n",
       "    </tr>\n",
       "    <tr>\n",
       "      <th>2016-10-25</th>\n",
       "      <td>117.949997</td>\n",
       "      <td>118.360001</td>\n",
       "      <td>117.309998</td>\n",
       "      <td>118.250000</td>\n",
       "      <td>48129000</td>\n",
       "      <td>117.645979</td>\n",
       "      <td>0.599998</td>\n",
       "      <td>0.005074</td>\n",
       "    </tr>\n",
       "    <tr>\n",
       "      <th>2016-10-26</th>\n",
       "      <td>114.309998</td>\n",
       "      <td>115.699997</td>\n",
       "      <td>113.309998</td>\n",
       "      <td>115.589996</td>\n",
       "      <td>66134200</td>\n",
       "      <td>114.999563</td>\n",
       "      <td>-2.660004</td>\n",
       "      <td>-0.023012</td>\n",
       "    </tr>\n",
       "    <tr>\n",
       "      <th>2016-10-27</th>\n",
       "      <td>115.389999</td>\n",
       "      <td>115.860001</td>\n",
       "      <td>114.099998</td>\n",
       "      <td>114.480003</td>\n",
       "      <td>34562000</td>\n",
       "      <td>113.895240</td>\n",
       "      <td>-1.109993</td>\n",
       "      <td>-0.009696</td>\n",
       "    </tr>\n",
       "    <tr>\n",
       "      <th>2016-10-28</th>\n",
       "      <td>113.870003</td>\n",
       "      <td>115.209999</td>\n",
       "      <td>113.449997</td>\n",
       "      <td>113.720001</td>\n",
       "      <td>37861700</td>\n",
       "      <td>113.139120</td>\n",
       "      <td>-0.760002</td>\n",
       "      <td>-0.006683</td>\n",
       "    </tr>\n",
       "    <tr>\n",
       "      <th>2016-10-31</th>\n",
       "      <td>113.650002</td>\n",
       "      <td>114.230003</td>\n",
       "      <td>113.199997</td>\n",
       "      <td>113.540001</td>\n",
       "      <td>26419400</td>\n",
       "      <td>112.960039</td>\n",
       "      <td>-0.180000</td>\n",
       "      <td>-0.001585</td>\n",
       "    </tr>\n",
       "  </tbody>\n",
       "</table>\n",
       "<p>1719 rows × 8 columns</p>\n",
       "</div>"
      ],
      "text/plain": [
       "                  Open        High         Low       Close     Volume  \\\n",
       "Date                                                                    \n",
       "2010-01-04  213.429998  214.499996  212.380001  214.009998  123432400   \n",
       "2010-01-05  214.599998  215.589994  213.249994  214.379993  150476200   \n",
       "2010-01-06  214.379993  215.230000  210.750004  210.969995  138040000   \n",
       "2010-01-07  211.750000  212.000006  209.050005  210.580000  119282800   \n",
       "2010-01-08  210.299994  212.000006  209.060005  211.980005  111902700   \n",
       "2010-01-11  212.799997  213.000002  208.450005  210.110003  115557400   \n",
       "2010-01-12  209.189995  209.769995  206.419998  207.720001  148614900   \n",
       "2010-01-13  207.870005  210.929995  204.099998  210.650002  151473000   \n",
       "2010-01-14  210.110003  210.459997  209.020004  209.430000  108223500   \n",
       "2010-01-15  210.929995  211.599997  205.869999  205.930000  148516900   \n",
       "2010-01-19  208.330002  215.189999  207.240004  215.039995  182501900   \n",
       "2010-01-20  214.910006  215.549994  209.500002  211.730000  153038200   \n",
       "2010-01-21  212.079994  213.309996  207.210003  208.069996  152038600   \n",
       "2010-01-22  206.780006  207.499996  197.160000  197.750000  220441900   \n",
       "2010-01-25  202.510002  204.699999  200.190002  203.070002  266424900   \n",
       "2010-01-26  205.950001  213.710005  202.580004  205.940001  466777500   \n",
       "2010-01-27  206.849995  210.580000  199.530001  207.880005  430642100   \n",
       "2010-01-28  204.930004  205.500004  198.699995  199.289995  293375600   \n",
       "2010-01-29  201.079996  202.199995  190.250002  192.060003  311488100   \n",
       "2010-02-01  192.369997  196.000000  191.299999  194.729998  187469100   \n",
       "2010-02-02  195.909998  196.319994  193.379993  195.859997  174585600   \n",
       "2010-02-03  195.169994  200.200003  194.420004  199.229994  153832000   \n",
       "2010-02-04  196.730003  198.370001  191.570005  192.050003  189413000   \n",
       "2010-02-05  192.630003  196.000000  190.850002  195.460001  212576700   \n",
       "2010-02-08  195.690006  197.880003  193.999994  194.119997  119567700   \n",
       "2010-02-09  196.419996  197.499994  194.749998  196.190004  158221700   \n",
       "2010-02-10  195.889997  196.600000  194.260000  195.120007   92590400   \n",
       "2010-02-11  194.880001  199.750006  194.059996  198.669994  137586400   \n",
       "2010-02-12  198.109995  201.639996  195.500002  200.379993  163867200   \n",
       "2010-02-16  201.940002  203.690002  201.520006  203.399996  135934400   \n",
       "...                ...         ...         ...         ...        ...   \n",
       "2016-09-20  113.050003  114.120003  112.510002  113.570000   34514300   \n",
       "2016-09-21  113.849998  113.989998  112.440002  113.550003   36003200   \n",
       "2016-09-22  114.349998  114.940002  114.000000  114.620003   31074000   \n",
       "2016-09-23  114.419998  114.790001  111.550003  112.709999   52481200   \n",
       "2016-09-26  111.639999  113.389999  111.550003  112.879997   29869400   \n",
       "2016-09-27  113.000000  113.180000  112.339996  113.089996   24607400   \n",
       "2016-09-28  113.690002  114.639999  113.430000  113.949997   29641100   \n",
       "2016-09-29  113.160004  113.800003  111.800003  112.180000   35887000   \n",
       "2016-09-30  112.459999  113.370003  111.800003  113.050003   36379100   \n",
       "2016-10-03  112.709999  113.050003  112.279999  112.519997   21701800   \n",
       "2016-10-04  113.059998  114.309998  112.629997  113.000000   29736800   \n",
       "2016-10-05  113.400002  113.660004  112.690002  113.050003   21453100   \n",
       "2016-10-06  113.699997  114.339996  113.129997  113.889999   28779300   \n",
       "2016-10-07  114.309998  114.559998  113.510002  114.059998   24358400   \n",
       "2016-10-10  115.019997  116.750000  114.720001  116.050003   36236000   \n",
       "2016-10-11  117.699997  118.690002  116.199997  116.300003   64041000   \n",
       "2016-10-12  117.349998  117.980003  116.750000  117.339996   37586800   \n",
       "2016-10-13  116.790001  117.440002  115.720001  116.980003   35192400   \n",
       "2016-10-14  117.879997  118.169998  117.129997  117.629997   35652200   \n",
       "2016-10-17  117.330002  117.839996  116.779999  117.550003   23624900   \n",
       "2016-10-18  118.180000  118.209999  117.449997  117.470001   24553500   \n",
       "2016-10-19  117.250000  117.760002  113.800003  117.120003   20034600   \n",
       "2016-10-20  116.860001  117.379997  116.330002  117.059998   24125800   \n",
       "2016-10-21  116.809998  116.910004  116.279999  116.599998   23192700   \n",
       "2016-10-24  117.099998  117.739998  117.000000  117.650002   23538700   \n",
       "2016-10-25  117.949997  118.360001  117.309998  118.250000   48129000   \n",
       "2016-10-26  114.309998  115.699997  113.309998  115.589996   66134200   \n",
       "2016-10-27  115.389999  115.860001  114.099998  114.480003   34562000   \n",
       "2016-10-28  113.870003  115.209999  113.449997  113.720001   37861700   \n",
       "2016-10-31  113.650002  114.230003  113.199997  113.540001   26419400   \n",
       "\n",
       "             Adj Close       Diff  Rel_Diff  \n",
       "Date                                         \n",
       "2010-01-04   27.847252        NaN       NaN  \n",
       "2010-01-05   27.895396   0.369995  0.001726  \n",
       "2010-01-06   27.451683  -3.409998 -0.016163  \n",
       "2010-01-07   27.400936  -0.389995 -0.001852  \n",
       "2010-01-08   27.583106   1.400005  0.006604  \n",
       "2010-01-11   27.339779  -1.870002 -0.008900  \n",
       "2010-01-12   27.028789  -2.390002 -0.011506  \n",
       "2010-01-13   27.410045   2.930001  0.013909  \n",
       "2010-01-14   27.251297  -1.220002 -0.005825  \n",
       "2010-01-15   26.795872  -3.500000 -0.016996  \n",
       "2010-01-19   27.981276   9.109995  0.042364  \n",
       "2010-01-20   27.550575  -3.309995 -0.015633  \n",
       "2010-01-21   27.074331  -3.660004 -0.017590  \n",
       "2010-01-22   25.731480 -10.319996 -0.052187  \n",
       "2010-01-25   26.423726   5.320002  0.026198  \n",
       "2010-01-26   26.797173   2.869999  0.013936  \n",
       "2010-01-27   27.049609   1.940004  0.009332  \n",
       "2010-01-28   25.931866  -8.590010 -0.043103  \n",
       "2010-01-29   24.991091  -7.229992 -0.037644  \n",
       "2010-02-01   25.338514   2.669995  0.013711  \n",
       "2010-02-02   25.485551   1.129999  0.005769  \n",
       "2010-02-03   25.924059   3.369997  0.016915  \n",
       "2010-02-04   24.989789  -7.179991 -0.037386  \n",
       "2010-02-05   25.433503   3.409998  0.017446  \n",
       "2010-02-08   25.259140  -1.340004 -0.006903  \n",
       "2010-02-09   25.528492   2.070007  0.010551  \n",
       "2010-02-10   25.389262  -1.069997 -0.005484  \n",
       "2010-02-11   25.851191   3.549987  0.017869  \n",
       "2010-02-12   26.073698   1.709999  0.008534  \n",
       "2010-02-16   26.466665   3.020003  0.014848  \n",
       "...                ...        ...       ...  \n",
       "2016-09-20  112.989884  -0.010002 -0.000088  \n",
       "2016-09-21  112.969990  -0.019997 -0.000176  \n",
       "2016-09-22  114.034524   1.070000  0.009335  \n",
       "2016-09-23  112.134277  -1.910004 -0.016946  \n",
       "2016-09-26  112.303406   0.169998  0.001506  \n",
       "2016-09-27  112.512333   0.209999  0.001857  \n",
       "2016-09-28  113.367940   0.860001  0.007547  \n",
       "2016-09-29  111.606985  -1.769997 -0.015778  \n",
       "2016-09-30  112.472544   0.870003  0.007696  \n",
       "2016-10-03  111.945245  -0.530006 -0.004710  \n",
       "2016-10-04  112.422796   0.480003  0.004248  \n",
       "2016-10-05  112.472544   0.050003  0.000442  \n",
       "2016-10-06  113.308249   0.839996  0.007376  \n",
       "2016-10-07  113.477379   0.169999  0.001490  \n",
       "2016-10-10  115.457220   1.990005  0.017148  \n",
       "2016-10-11  115.705943   0.250000  0.002150  \n",
       "2016-10-12  116.740624   1.039993  0.008863  \n",
       "2016-10-13  116.382470  -0.359993 -0.003077  \n",
       "2016-10-14  117.029143   0.649994  0.005526  \n",
       "2016-10-17  116.949558  -0.079994 -0.000681  \n",
       "2016-10-18  116.869965  -0.080002 -0.000681  \n",
       "2016-10-19  116.521754  -0.349998 -0.002988  \n",
       "2016-10-20  116.462055  -0.060005 -0.000513  \n",
       "2016-10-21  116.004406  -0.460000 -0.003945  \n",
       "2016-10-24  117.049045   1.050004  0.008925  \n",
       "2016-10-25  117.645979   0.599998  0.005074  \n",
       "2016-10-26  114.999563  -2.660004 -0.023012  \n",
       "2016-10-27  113.895240  -1.109993 -0.009696  \n",
       "2016-10-28  113.139120  -0.760002 -0.006683  \n",
       "2016-10-31  112.960039  -0.180000 -0.001585  \n",
       "\n",
       "[1719 rows x 8 columns]"
      ]
     },
     "execution_count": 32,
     "metadata": {},
     "output_type": "execute_result"
    }
   ],
   "source": [
    "df.drop(df.Diff.argmax())"
   ]
  },
  {
   "cell_type": "code",
   "execution_count": 33,
   "metadata": {},
   "outputs": [
    {
     "data": {
      "text/plain": [
       "<matplotlib.axes._subplots.AxesSubplot at 0x118732208>"
      ]
     },
     "execution_count": 33,
     "metadata": {},
     "output_type": "execute_result"
    },
    {
     "data": {
      "image/png": "[encoded data removed]",
      "text/plain": [
       "<matplotlib.figure.Figure at 0x118729f98>"
      ]
     },
     "metadata": {},
     "output_type": "display_data"
    }
   ],
   "source": [
    "df.Diff.plot()"
   ]
  },
  {
   "cell_type": "markdown",
   "metadata": {},
   "source": [
    "沒有消失啊!!"
   ]
  },
  {
   "cell_type": "markdown",
   "metadata": {},
   "source": [
    "#### inplace=True"
   ]
  },
  {
   "cell_type": "code",
   "execution_count": 34,
   "metadata": {},
   "outputs": [],
   "source": [
    "df.drop(df.Diff.argmin(), inplace=True)"
   ]
  },
  {
   "cell_type": "code",
   "execution_count": 35,
   "metadata": {},
   "outputs": [],
   "source": [
    "df.dropna(inplace=True)"
   ]
  },
  {
   "cell_type": "code",
   "execution_count": 36,
   "metadata": {},
   "outputs": [
    {
     "data": {
      "text/html": [
       "<div>\n",
       "<table border=\"1\" class=\"dataframe\">\n",
       "  <thead>\n",
       "    <tr style=\"text-align: right;\">\n",
       "      <th></th>\n",
       "      <th>Open</th>\n",
       "      <th>High</th>\n",
       "      <th>Low</th>\n",
       "      <th>Close</th>\n",
       "      <th>Volume</th>\n",
       "      <th>Adj Close</th>\n",
       "      <th>Diff</th>\n",
       "      <th>Rel_Diff</th>\n",
       "    </tr>\n",
       "    <tr>\n",
       "      <th>Date</th>\n",
       "      <th></th>\n",
       "      <th></th>\n",
       "      <th></th>\n",
       "      <th></th>\n",
       "      <th></th>\n",
       "      <th></th>\n",
       "      <th></th>\n",
       "      <th></th>\n",
       "    </tr>\n",
       "  </thead>\n",
       "  <tbody>\n",
       "    <tr>\n",
       "      <th>2010-01-05</th>\n",
       "      <td>214.599998</td>\n",
       "      <td>215.589994</td>\n",
       "      <td>213.249994</td>\n",
       "      <td>214.379993</td>\n",
       "      <td>150476200</td>\n",
       "      <td>27.895396</td>\n",
       "      <td>0.369995</td>\n",
       "      <td>0.001726</td>\n",
       "    </tr>\n",
       "    <tr>\n",
       "      <th>2010-01-06</th>\n",
       "      <td>214.379993</td>\n",
       "      <td>215.230000</td>\n",
       "      <td>210.750004</td>\n",
       "      <td>210.969995</td>\n",
       "      <td>138040000</td>\n",
       "      <td>27.451683</td>\n",
       "      <td>-3.409998</td>\n",
       "      <td>-0.016163</td>\n",
       "    </tr>\n",
       "    <tr>\n",
       "      <th>2010-01-07</th>\n",
       "      <td>211.750000</td>\n",
       "      <td>212.000006</td>\n",
       "      <td>209.050005</td>\n",
       "      <td>210.580000</td>\n",
       "      <td>119282800</td>\n",
       "      <td>27.400936</td>\n",
       "      <td>-0.389995</td>\n",
       "      <td>-0.001852</td>\n",
       "    </tr>\n",
       "    <tr>\n",
       "      <th>2010-01-08</th>\n",
       "      <td>210.299994</td>\n",
       "      <td>212.000006</td>\n",
       "      <td>209.060005</td>\n",
       "      <td>211.980005</td>\n",
       "      <td>111902700</td>\n",
       "      <td>27.583106</td>\n",
       "      <td>1.400005</td>\n",
       "      <td>0.006604</td>\n",
       "    </tr>\n",
       "    <tr>\n",
       "      <th>2010-01-11</th>\n",
       "      <td>212.799997</td>\n",
       "      <td>213.000002</td>\n",
       "      <td>208.450005</td>\n",
       "      <td>210.110003</td>\n",
       "      <td>115557400</td>\n",
       "      <td>27.339779</td>\n",
       "      <td>-1.870002</td>\n",
       "      <td>-0.008900</td>\n",
       "    </tr>\n",
       "  </tbody>\n",
       "</table>\n",
       "</div>"
      ],
      "text/plain": [
       "                  Open        High         Low       Close     Volume  \\\n",
       "Date                                                                    \n",
       "2010-01-05  214.599998  215.589994  213.249994  214.379993  150476200   \n",
       "2010-01-06  214.379993  215.230000  210.750004  210.969995  138040000   \n",
       "2010-01-07  211.750000  212.000006  209.050005  210.580000  119282800   \n",
       "2010-01-08  210.299994  212.000006  209.060005  211.980005  111902700   \n",
       "2010-01-11  212.799997  213.000002  208.450005  210.110003  115557400   \n",
       "\n",
       "            Adj Close      Diff  Rel_Diff  \n",
       "Date                                       \n",
       "2010-01-05  27.895396  0.369995  0.001726  \n",
       "2010-01-06  27.451683 -3.409998 -0.016163  \n",
       "2010-01-07  27.400936 -0.389995 -0.001852  \n",
       "2010-01-08  27.583106  1.400005  0.006604  \n",
       "2010-01-11  27.339779 -1.870002 -0.008900  "
      ]
     },
     "execution_count": 36,
     "metadata": {},
     "output_type": "execute_result"
    }
   ],
   "source": [
    "df.head()"
   ]
  },
  {
   "cell_type": "code",
   "execution_count": 37,
   "metadata": {},
   "outputs": [
    {
     "data": {
      "text/plain": [
       "<matplotlib.axes._subplots.AxesSubplot at 0x11881d940>"
      ]
     },
     "execution_count": 37,
     "metadata": {},
     "output_type": "execute_result"
    },
    {
     "data": {
      "image/png": "[encoded data removed]",
      "text/plain": [
       "<matplotlib.figure.Figure at 0x11880f780>"
      ]
     },
     "metadata": {},
     "output_type": "display_data"
    }
   ],
   "source": [
    "df.Diff.plot()"
   ]
  }
 ],
 "metadata": {
  "anaconda-cloud": {},
  "kernelspec": {
   "display_name": "Python 3",
   "language": "python",
   "name": "python3"
  },
  "language_info": {
   "codemirror_mode": {
    "name": "ipython",
    "version": 3
   },
   "file_extension": ".py",
   "mimetype": "text/x-python",
   "name": "python",
   "nbconvert_exporter": "python",
   "pygments_lexer": "ipython3",
   "version": "3.6.1"
  }
 },
 "nbformat": 4,
 "nbformat_minor": 1
}
