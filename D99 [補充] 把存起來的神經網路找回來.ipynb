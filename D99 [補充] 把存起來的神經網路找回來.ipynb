{
 "cells": [
  {
   "cell_type": "markdown",
   "metadata": {},
   "source": [
    "## 前情提要\n",
    "\n",
    "我們之前用以下的程式碼, 把我們的神經網路存起來...\n",
    "\n",
    "    model_json = model.to_json()\n",
    "    open('handwriting_model_architecture.json', 'w').write(model_json)\n",
    "    model.save_weights('handwriting_model_weights.h5')\n",
    "    \n"
   ]
  }
 ],
 "metadata": {
  "kernelspec": {
   "display_name": "Python 3",
   "language": "python",
   "name": "python3"
  },
  "language_info": {
   "codemirror_mode": {
    "name": "ipython",
    "version": 3
   },
   "file_extension": ".py",
   "mimetype": "text/x-python",
   "name": "python",
   "nbconvert_exporter": "python",
   "pygments_lexer": "ipython3",
   "version": "3.7.3"
  }
 },
 "nbformat": 4,
 "nbformat_minor": 2
}
