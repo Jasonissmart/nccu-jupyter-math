{
 "cells": [
  {
   "cell_type": "markdown",
   "metadata": {},
   "source": [
    "# 正常人學 regex\n",
    "\n",
    "在學程式的過程中, 你早晚會聽到 Regular Expression, 或是 Regex 這種東西。\n",
    "\n",
    "當你勇敢的開始學的時候, 可能會覺得\n",
    "\n",
    "「世上怎麼會有人弄得懂這些東西?」\n",
    "\n",
    "但其實 regex 不過是找一堆字中有沒有出現我們要找的形式的東西, 例如電話、網址、圖片檔案名稱等等。我們這裡來看看到底怎麼在 Python 用 regex, 標準套件叫 `re`。"
   ]
  },
  {
   "cell_type": "code",
   "execution_count": 1,
   "metadata": {
    "collapsed": true
   },
   "outputs": [],
   "source": [
    "import re"
   ]
  },
  {
   "cell_type": "markdown",
   "metadata": {},
   "source": [
    "## 1. 基本中的基本\n",
    "\n",
    "通常我們就是給一串的 pattern, 然後看一個字串中有沒有出現。比如說"
   ]
  },
  {
   "cell_type": "code",
   "execution_count": 106,
   "metadata": {
    "collapsed": true
   },
   "outputs": [],
   "source": [
    "pattern = \"pen\"\n",
    "contex = \"pen pineapple apple pen\""
   ]
  },
  {
   "cell_type": "code",
   "execution_count": 107,
   "metadata": {
    "collapsed": false
   },
   "outputs": [],
   "source": [
    "match = re.search(pattern, context)"
   ]
  },
  {
   "cell_type": "markdown",
   "metadata": {},
   "source": [
    "做完了, 那到底 pen 有沒有出現在那裡面呢?"
   ]
  },
  {
   "cell_type": "code",
   "execution_count": 108,
   "metadata": {
    "collapsed": false
   },
   "outputs": [
    {
     "name": "stdout",
     "output_type": "stream",
     "text": [
      "有!\n"
     ]
    }
   ],
   "source": [
    "if match:\n",
    "    print(\"有!\")\n",
    "else:\n",
    "    print(\"沒有!\")"
   ]
  },
  {
   "cell_type": "markdown",
   "metadata": {},
   "source": [
    "在哪個位置?"
   ]
  },
  {
   "cell_type": "code",
   "execution_count": 109,
   "metadata": {
    "collapsed": false
   },
   "outputs": [
    {
     "data": {
      "text/plain": [
       "(0, 3)"
      ]
     },
     "execution_count": 109,
     "metadata": {},
     "output_type": "execute_result"
    }
   ],
   "source": [
    "match.span()"
   ]
  },
  {
   "cell_type": "code",
   "execution_count": 110,
   "metadata": {
    "collapsed": false
   },
   "outputs": [
    {
     "data": {
      "text/plain": [
       "'pen'"
      ]
     },
     "execution_count": 110,
     "metadata": {},
     "output_type": "execute_result"
    }
   ],
   "source": [
    "contex[0:3]"
   ]
  },
  {
   "cell_type": "markdown",
   "metadata": {},
   "source": [
    "這顯然是第一次, 那後面的 pen 呢?"
   ]
  },
  {
   "cell_type": "code",
   "execution_count": 111,
   "metadata": {
    "collapsed": false
   },
   "outputs": [
    {
     "data": {
      "text/plain": [
       "['pen', 'pen']"
      ]
     },
     "execution_count": 111,
     "metadata": {},
     "output_type": "execute_result"
    }
   ],
   "source": [
    "re.findall(pattern, context)"
   ]
  },
  {
   "cell_type": "markdown",
   "metadata": {},
   "source": [
    "就是這樣了, 是不是有夠簡單?"
   ]
  },
  {
   "cell_type": "markdown",
   "metadata": {},
   "source": [
    "我們甚至還可以把 \"pen\" 換成其他字, 比如說 \"pod\""
   ]
  },
  {
   "cell_type": "code",
   "execution_count": 112,
   "metadata": {
    "collapsed": false
   },
   "outputs": [
    {
     "data": {
      "text/plain": [
       "'pod pineapple apple pod'"
      ]
     },
     "execution_count": 112,
     "metadata": {},
     "output_type": "execute_result"
    }
   ],
   "source": [
    "re.sub(pattern, \"pod\", context)"
   ]
  },
  {
   "cell_type": "markdown",
   "metadata": {},
   "source": [
    "對了, 如果你要找的是 \"apple\", 你猜會找到多少個呢?"
   ]
  },
  {
   "cell_type": "code",
   "execution_count": 113,
   "metadata": {
    "collapsed": false
   },
   "outputs": [
    {
     "data": {
      "text/plain": [
       "['apple', 'apple']"
      ]
     },
     "execution_count": 113,
     "metadata": {},
     "output_type": "execute_result"
    }
   ],
   "source": [
    "re.findall(\"apple\", context)"
   ]
  },
  {
   "cell_type": "markdown",
   "metadata": {},
   "source": [
    "## 2. 母音用到哪些?\n",
    "\n",
    "我們學到, 其實 regex 就可以當個標準搜尋工具。當然, 如果事情就那麼簡單, 也不會有人說它很難學。\n",
    "\n",
    "我們現在想找找剛剛 `contex` 中用到 a, e, i, o, u 等哪些字母, 用到幾個。"
   ]
  },
  {
   "cell_type": "code",
   "execution_count": 114,
   "metadata": {
    "collapsed": true
   },
   "outputs": [],
   "source": [
    "pattern = \"[aeiou]\""
   ]
  },
  {
   "cell_type": "code",
   "execution_count": 115,
   "metadata": {
    "collapsed": false
   },
   "outputs": [
    {
     "data": {
      "text/plain": [
       "['e', 'i', 'e', 'a', 'e', 'a', 'e', 'e']"
      ]
     },
     "execution_count": 115,
     "metadata": {},
     "output_type": "execute_result"
    }
   ],
   "source": [
    "re.findall(pattern, context)"
   ]
  },
  {
   "cell_type": "markdown",
   "metadata": {},
   "source": [
    "所以用到 7 個母音!\n",
    "\n",
    "原來用中括號就是其中一個都可以, 也就是說 `[aeiou]` 只要出現 a, e, i, o, u 任一字母都可以的。這真的很方便, 如\n",
    "\n",
    "* `[0-9]` 代表, 嗯, 0 到 9 的數字\n",
    "* `[A-Z]` 代表大寫英文字母\n",
    "* `[a-z]` 代表小寫英文字母\n",
    "* `[0-9a-z]` 對, 可以混用!"
   ]
  },
  {
   "cell_type": "code",
   "execution_count": 116,
   "metadata": {
    "collapsed": true
   },
   "outputs": [],
   "source": [
    "telphone = \"(02)2939-3091\""
   ]
  },
  {
   "cell_type": "code",
   "execution_count": 117,
   "metadata": {
    "collapsed": false
   },
   "outputs": [
    {
     "data": {
      "text/plain": [
       "['0', '2', '2', '9', '3', '9', '3', '0', '9', '1']"
      ]
     },
     "execution_count": 117,
     "metadata": {},
     "output_type": "execute_result"
    }
   ],
   "source": [
    "re.findall(\"[0-9]\", telphone)"
   ]
  },
  {
   "cell_type": "markdown",
   "metadata": {},
   "source": [
    "## 3. 中文可以嗎?\n",
    "\n",
    "你可能會好奇, 中文可以嗎? 找得到嗎?"
   ]
  },
  {
   "cell_type": "code",
   "execution_count": 118,
   "metadata": {
    "collapsed": true
   },
   "outputs": [],
   "source": [
    "pattern = \"炎龍\"\n",
    "context = \"聽說有個叫炎龍的人, 他會教 Python 程式語言。\""
   ]
  },
  {
   "cell_type": "code",
   "execution_count": 119,
   "metadata": {
    "collapsed": false
   },
   "outputs": [
    {
     "data": {
      "text/plain": [
       "['炎龍']"
      ]
     },
     "execution_count": 119,
     "metadata": {},
     "output_type": "execute_result"
    }
   ],
   "source": [
    "re.findall(pattern, context)"
   ]
  },
  {
   "cell_type": "markdown",
   "metadata": {},
   "source": [
    "可以耶!!"
   ]
  },
  {
   "cell_type": "markdown",
   "metadata": {},
   "source": [
    "## 4. 開頭和結束, 還有 metacharacters\n",
    "\n",
    "一定要在最前面出現是 `^`, 指定結束是 `$`。"
   ]
  },
  {
   "cell_type": "code",
   "execution_count": 120,
   "metadata": {
    "collapsed": false
   },
   "outputs": [],
   "source": [
    "pattern = \"^pen\"\n",
    "context = \"pen pineapple apple pen\""
   ]
  },
  {
   "cell_type": "code",
   "execution_count": 121,
   "metadata": {
    "collapsed": false
   },
   "outputs": [],
   "source": [
    "match = re.search(pattern, context)"
   ]
  },
  {
   "cell_type": "code",
   "execution_count": 122,
   "metadata": {
    "collapsed": false
   },
   "outputs": [
    {
     "data": {
      "text/plain": [
       "(0, 3)"
      ]
     },
     "execution_count": 122,
     "metadata": {},
     "output_type": "execute_result"
    }
   ],
   "source": [
    "match.span() # match 第一個 pen"
   ]
  },
  {
   "cell_type": "code",
   "execution_count": 126,
   "metadata": {
    "collapsed": false
   },
   "outputs": [],
   "source": [
    "pattern = \"pen$\"\n",
    "context = \"pen pineapple apple pen\""
   ]
  },
  {
   "cell_type": "code",
   "execution_count": 127,
   "metadata": {
    "collapsed": true
   },
   "outputs": [],
   "source": [
    "match = re.search(pattern, context)"
   ]
  },
  {
   "cell_type": "code",
   "execution_count": 130,
   "metadata": {
    "collapsed": false
   },
   "outputs": [
    {
     "data": {
      "text/plain": [
       "(20, 23)"
      ]
     },
     "execution_count": 130,
     "metadata": {},
     "output_type": "execute_result"
    }
   ],
   "source": [
    "match.span() # match 第二個 pen"
   ]
  },
  {
   "cell_type": "markdown",
   "metadata": {},
   "source": [
    "像這種 `^` 啦, 或是 `$` 啦, 叫做 <b style=\"color:red;\">metacharacters</b>, 還有許多個:\n",
    "\n",
    "    . ^ $ * + ? { } [ ] \\ | ( )\n",
    "    \n",
    "然後你發現, 之前說中括號 `[ ]`, 也就是括起來的內容任何一個都可以的也在裡面。很有趣的是, 這些 metacharacters 一被括起來就沒有原來的意思, 比如說... \n",
    "\n",
    "`$` 在括號裡就是 `$`!"
   ]
  },
  {
   "cell_type": "code",
   "execution_count": 134,
   "metadata": {
    "collapsed": true
   },
   "outputs": [],
   "source": [
    "pattern = \"[Ff$]oo\"\n",
    "context = \"Foo, foo, $oo\""
   ]
  },
  {
   "cell_type": "code",
   "execution_count": 135,
   "metadata": {
    "collapsed": false
   },
   "outputs": [
    {
     "data": {
      "text/plain": [
       "['Foo', 'foo', '$oo']"
      ]
     },
     "execution_count": 135,
     "metadata": {},
     "output_type": "execute_result"
    }
   ],
   "source": [
    "re.findall(pattern, context)"
   ]
  },
  {
   "cell_type": "code",
   "execution_count": null,
   "metadata": {
    "collapsed": true
   },
   "outputs": [],
   "source": []
  }
 ],
 "metadata": {
  "anaconda-cloud": {},
  "kernelspec": {
   "display_name": "Python [conda root]",
   "language": "python",
   "name": "conda-root-py"
  },
  "language_info": {
   "codemirror_mode": {
    "name": "ipython",
    "version": 3
   },
   "file_extension": ".py",
   "mimetype": "text/x-python",
   "name": "python",
   "nbconvert_exporter": "python",
   "pygments_lexer": "ipython3",
   "version": "3.5.2"
  }
 },
 "nbformat": 4,
 "nbformat_minor": 1
}
