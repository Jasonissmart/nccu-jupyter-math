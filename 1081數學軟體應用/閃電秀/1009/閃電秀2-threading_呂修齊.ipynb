{
 "cells": [
  {
   "cell_type": "markdown",
   "metadata": {},
   "source": [
    "# threading 介紹"
   ]
  },
  {
   "cell_type": "code",
   "execution_count": null,
   "metadata": {},
   "outputs": [],
   "source": []
  },
  {
   "cell_type": "code",
   "execution_count": null,
   "metadata": {},
   "outputs": [],
   "source": []
  },
  {
   "cell_type": "code",
   "execution_count": 1,
   "metadata": {},
   "outputs": [],
   "source": [
    "import threading\n",
    "import time"
   ]
  },
  {
   "cell_type": "markdown",
   "metadata": {},
   "source": [
    "# threading.Thread()"
   ]
  },
  {
   "cell_type": "code",
   "execution_count": 2,
   "metadata": {},
   "outputs": [],
   "source": [
    "def job():\n",
    "    for i in range(5):\n",
    "        print(\"Child thread:\", i)\n",
    "        time.sleep(1)"
   ]
  },
  {
   "cell_type": "code",
   "execution_count": 7,
   "metadata": {},
   "outputs": [
    {
     "name": "stdout",
     "output_type": "stream",
     "text": [
      "Child thread: 0\n",
      "Child thread: 1\n",
      "Child thread: 2\n",
      "Child thread: 3\n",
      "Child thread: 4\n"
     ]
    }
   ],
   "source": [
    "job()"
   ]
  },
  {
   "cell_type": "code",
   "execution_count": 3,
   "metadata": {},
   "outputs": [
    {
     "name": "stdout",
     "output_type": "stream",
     "text": [
      "Child thread: 0\n",
      "Main thread: 0\n",
      "Child thread: 1\n",
      "Main thread: 1\n",
      "Main thread:Child thread: 2\n",
      " 2\n",
      "Child thread: 3\n",
      "Child thread: 4\n"
     ]
    }
   ],
   "source": [
    "t = threading.Thread(target = job)\n",
    "t.start()\n",
    "for i in range(3):\n",
    "    print(\"Main thread:\", i)\n",
    "    time.sleep(1)"
   ]
  },
  {
   "cell_type": "markdown",
   "metadata": {},
   "source": [
    "# 傳引數"
   ]
  },
  {
   "cell_type": "code",
   "execution_count": 4,
   "metadata": {},
   "outputs": [],
   "source": [
    "def number(n):\n",
    "    for i in range(5):\n",
    "        print(n)"
   ]
  },
  {
   "cell_type": "code",
   "execution_count": 5,
   "metadata": {},
   "outputs": [
    {
     "name": "stdout",
     "output_type": "stream",
     "text": [
      "9.2\n",
      "9.2\n",
      "9.2\n",
      "9.2\n",
      "9.2\n"
     ]
    }
   ],
   "source": [
    "nn=threading.Thread(target=number,args=[9.2])\n",
    "nn.start()"
   ]
  },
  {
   "cell_type": "markdown",
   "metadata": {},
   "source": [
    "# treading.join()"
   ]
  },
  {
   "cell_type": "code",
   "execution_count": 6,
   "metadata": {},
   "outputs": [
    {
     "name": "stdout",
     "output_type": "stream",
     "text": [
      "Child thread: 0\n",
      "Main thread: 0\n",
      "Child thread:Main thread: 1\n",
      " 1\n",
      "Main thread: 2\n",
      "Child thread: 2\n",
      "3.0093770027160645sChild thread: 3\n",
      "\n",
      "Child thread: 4\n"
     ]
    }
   ],
   "source": [
    "t = threading.Thread(target = job)\n",
    "start_time = time.time()\n",
    "t.start()\n",
    "for i in range(3):\n",
    "    print(\"Main thread:\", i)\n",
    "    time.sleep(1)\n",
    "end_time = time.time()\n",
    "print(str(end_time - start_time)+\"s\")"
   ]
  },
  {
   "cell_type": "code",
   "execution_count": 7,
   "metadata": {},
   "outputs": [
    {
     "name": "stdout",
     "output_type": "stream",
     "text": [
      "Child thread:Main thread: 0\n",
      " 0\n",
      "Main thread:Child thread: 1\n",
      " 1\n",
      "Child thread:Main thread:  2\n",
      "2\n",
      "Child thread: 3\n",
      "Child thread: 4\n",
      "5.017589092254639s\n"
     ]
    }
   ],
   "source": [
    "t = threading.Thread(target = job)\n",
    "start_time = time.time()\n",
    "t.start()\n",
    "for i in range(3):\n",
    "    print(\"Main thread:\", i)\n",
    "    time.sleep(1)\n",
    "t.join()\n",
    "end_time = time.time()\n",
    "print(str(end_time - start_time)+\"s\")"
   ]
  },
  {
   "cell_type": "code",
   "execution_count": null,
   "metadata": {},
   "outputs": [],
   "source": []
  },
  {
   "cell_type": "markdown",
   "metadata": {},
   "source": [
    "# threading.deamon 設定執行緒"
   ]
  },
  {
   "cell_type": "code",
   "execution_count": 42,
   "metadata": {},
   "outputs": [
    {
     "name": "stdout",
     "output_type": "stream",
     "text": [
      "Child thread: 0\n",
      "Main thread: 0\n",
      "Main thread:Child thread: 1\n",
      " 1\n",
      "Child thread: 2\n",
      "Main thread: 2\n",
      "Child thread: 3\n",
      "3.006908893585205s\n",
      "Child thread: 4\n"
     ]
    }
   ],
   "source": [
    "t= threading.Thread(target = job)\n",
    "t.daemon = True\n",
    "t.start()\n",
    "start_time = time.time()\n",
    "for i in range(3):\n",
    "    print(\"Main thread:\", i)\n",
    "    time.sleep(1)\n",
    "end_time = time.time()\n",
    "print(str(end_time - start_time)+\"s\")"
   ]
  },
  {
   "cell_type": "code",
   "execution_count": 65,
   "metadata": {},
   "outputs": [],
   "source": [
    "def number():\n",
    "    for i in range(5):\n",
    "        print(i)"
   ]
  },
  {
   "cell_type": "code",
   "execution_count": 67,
   "metadata": {},
   "outputs": [],
   "source": [
    "t= threading.Thread(target = job)\n",
    "n=threading.Thread(target = number)"
   ]
  },
  {
   "cell_type": "code",
   "execution_count": 71,
   "metadata": {},
   "outputs": [
    {
     "name": "stdout",
     "output_type": "stream",
     "text": [
      "Child thread: 0\n",
      "0\n",
      "1\n",
      "2\n",
      "3\n",
      "4\n",
      "Child thread: 1\n",
      "Child thread: 2\n",
      "Child thread: 3\n",
      "Child thread: 4\n"
     ]
    }
   ],
   "source": [
    "thread=[]\n",
    "thread.append(t)\n",
    "thread.append(n)\n",
    "for i in range(len(thread)):\n",
    "    thread[i].start()"
   ]
  }
 ],
 "metadata": {
  "kernelspec": {
   "display_name": "Python 3",
   "language": "python",
   "name": "python3"
  },
  "language_info": {
   "codemirror_mode": {
    "name": "ipython",
    "version": 3
   },
   "file_extension": ".py",
   "mimetype": "text/x-python",
   "name": "python",
   "nbconvert_exporter": "python",
   "pygments_lexer": "ipython3",
   "version": "3.7.3"
  }
 },
 "nbformat": 4,
 "nbformat_minor": 2
}
