{
 "cells": [
  {
   "cell_type": "code",
   "execution_count": 2,
   "metadata": {},
   "outputs": [],
   "source": [
    "from ipywidgets import Layout, Button, Box, HBox,VBox"
   ]
  },
  {
   "cell_type": "code",
   "execution_count": 3,
   "metadata": {},
   "outputs": [
    {
     "data": {
      "application/vnd.jupyter.widget-view+json": {
       "model_id": "d78fef8bb5424ababe0c33047b430ee0",
       "version_major": 2,
       "version_minor": 0
      },
      "text/plain": [
       "Button(button_style='warning', description='Hello', layout=Layout(height='60px', width='100px'), style=ButtonS…"
      ]
     },
     "metadata": {},
     "output_type": "display_data"
    }
   ],
   "source": [
    "items_hello = Button(description='Hello',\n",
    "                     layout=Layout(height='60px', width='100px'),\n",
    "                     button_style='warning')\n",
    "\n",
    "items_hello"
   ]
  },
  {
   "cell_type": "code",
   "execution_count": 4,
   "metadata": {},
   "outputs": [
    {
     "data": {
      "application/vnd.jupyter.widget-view+json": {
       "model_id": "bf5d24a1f2334fe386decbb55afe0cd6",
       "version_major": 2,
       "version_minor": 0
      },
      "text/plain": [
       "Button(button_style='warning', description='格式如上', layout=Layout(height='60px', width='100px'), style=ButtonSt…"
      ]
     },
     "metadata": {},
     "output_type": "display_data"
    }
   ],
   "source": [
    "Same_button = Button(description='格式如上',\n",
    "                     layout=items_hello.layout,\n",
    "                     button_style=items_hello.button_style)\n",
    "\n",
    "Same_button"
   ]
  },
  {
   "cell_type": "code",
   "execution_count": 5,
   "metadata": {},
   "outputs": [
    {
     "data": {
      "application/vnd.jupyter.widget-view+json": {
       "model_id": "611be05c02d940bb890afd3cdb61f297",
       "version_major": 2,
       "version_minor": 0
      },
      "text/plain": [
       "VBox(children=(Button(button_style='info', description='上', style=ButtonStyle()), Button(button_style='info', …"
      ]
     },
     "metadata": {},
     "output_type": "display_data"
    }
   ],
   "source": [
    "words = ['上', '下']\n",
    "items = [Button(description=d,button_style='info') for d in words]\n",
    "VBox([items[0], items[1]])"
   ]
  },
  {
   "cell_type": "code",
   "execution_count": 6,
   "metadata": {},
   "outputs": [
    {
     "data": {
      "application/vnd.jupyter.widget-view+json": {
       "model_id": "0b21b6f4aedd4387b4a66e9b644b7c50",
       "version_major": 2,
       "version_minor": 0
      },
      "text/plain": [
       "HBox(children=(Button(button_style='success', description='左', style=ButtonStyle()), Button(button_style='succ…"
      ]
     },
     "metadata": {},
     "output_type": "display_data"
    }
   ],
   "source": [
    "words = ['左', '右']\n",
    "items = [Button(description=d,button_style='success') for d in words]\n",
    "HBox([items[0], items[1]])"
   ]
  },
  {
   "cell_type": "code",
   "execution_count": 7,
   "metadata": {},
   "outputs": [
    {
     "data": {
      "application/vnd.jupyter.widget-view+json": {
       "model_id": "7ba443c26090446c9cdd7ca7a4d1cf42",
       "version_major": 2,
       "version_minor": 0
      },
      "text/plain": [
       "HBox(children=(VBox(children=(Button(button_style='danger', description='左上', style=ButtonStyle()), Button(but…"
      ]
     },
     "metadata": {},
     "output_type": "display_data"
    }
   ],
   "source": [
    "words = ['左上', '左下', '右上', '右下']\n",
    "items = [Button(description=d, button_style='danger') for d in words]\n",
    "left_box = VBox([items[0], items[1]])\n",
    "right_box = VBox([items[2], items[3]])\n",
    "HBox([left_box, right_box])"
   ]
  },
  {
   "cell_type": "markdown",
   "metadata": {},
   "source": [
    "## 除了Button還可以排列其他Widgets"
   ]
  },
  {
   "cell_type": "code",
   "execution_count": 9,
   "metadata": {},
   "outputs": [],
   "source": [
    "from ipywidgets import interact, widgets"
   ]
  },
  {
   "cell_type": "code",
   "execution_count": 10,
   "metadata": {},
   "outputs": [
    {
     "data": {
      "application/vnd.jupyter.widget-view+json": {
       "model_id": "2172f83f43ff4e649f707807732b2230",
       "version_major": 2,
       "version_minor": 0
      },
      "text/plain": [
       "Box(children=(Play(value=1, max=1000, min=1, step=30), FloatProgress(value=100.0, bar_style='success', descrip…"
      ]
     },
     "metadata": {},
     "output_type": "display_data"
    }
   ],
   "source": [
    "play = widgets.Play(\n",
    "    value=0, \n",
    "    min=1, \n",
    "    max=1000, \n",
    "    step=30, \n",
    "    discription=\"Press play\", \n",
    "    disabled = False)\n",
    "\n",
    "slider = widgets.FloatProgress(\n",
    "    value=100,\n",
    "    min=1, \n",
    "    max=1000,step=3, \n",
    "    description=\"等待中:\", \n",
    "    bar_style='Success',\n",
    "    orientation='Horizontal')\n",
    "\n",
    "widgets.jslink((play,'value'), (slider, 'value'))\n",
    "widgets.Box([play, slider])"
   ]
  },
  {
   "cell_type": "markdown",
   "metadata": {},
   "source": [
    "## Layout內參數：flex-flow\n",
    "\n",
    "### flex-direction:\n",
    "* column/column-reverse\n",
    "* row/row-reverse\n",
    "\n",
    "### flex-wrap:\n",
    "* wrap/wrap-reverse"
   ]
  },
  {
   "cell_type": "code",
   "execution_count": 14,
   "metadata": {},
   "outputs": [
    {
     "data": {
      "application/vnd.jupyter.widget-view+json": {
       "model_id": "26cce925cdf44935a35d24407ca75785",
       "version_major": 2,
       "version_minor": 0
      },
      "text/plain": [
       "Box(children=(Button(button_style='info', description='小美', style=ButtonStyle()), Button(button_style='info', …"
      ]
     },
     "metadata": {},
     "output_type": "display_data"
    }
   ],
   "source": [
    "words = ['小美', '大雄', '大華', '花輪','小花','小明','阿呆','阿成']\n",
    "items = [Button(description=d, button_style='info') for d in words]\n",
    "items_layout = Layout( width='auto')\n",
    "\n",
    "box_layout = Layout(display='flex',\n",
    "                    flex_flow='row',\n",
    "                    align_content='stretch',\n",
    "                    border='solid',\n",
    "                    width='100%')\n",
    "\n",
    "box = Box(children=items, layout=box_layout)\n",
    "box"
   ]
  },
  {
   "cell_type": "markdown",
   "metadata": {},
   "source": [
    "## 箱內位置參數：\n",
    "## justify-content/align-items/align-content\n",
    "\n",
    "* flex-start\n",
    "* flex-end\n",
    "* center\n",
    "* space-between\n",
    "* space-around\n",
    "* stretch"
   ]
  },
  {
   "cell_type": "code",
   "execution_count": 16,
   "metadata": {},
   "outputs": [
    {
     "data": {
      "application/vnd.jupyter.widget-view+json": {
       "model_id": "7a79a0ae082b4b58b0057579f00ababc",
       "version_major": 2,
       "version_minor": 0
      },
      "text/plain": [
       "Box(children=(Button(button_style='primary', description='小美', style=ButtonStyle()), Button(button_style='prim…"
      ]
     },
     "metadata": {},
     "output_type": "display_data"
    }
   ],
   "source": [
    "words = ['小美', '大雄', '大華', '花輪','小花','小明','阿呆','阿成']\n",
    "items = [Button(description=d, button_style='primary') for d in words]\n",
    "items_layout = Layout( width='auto')\n",
    "\n",
    "box_layout = Layout(display='flex',\n",
    "                    flex_flow='wrap',\n",
    "                    justify_content='flex-end',\n",
    "                    border='solid',\n",
    "                    width='100%')\n",
    "\n",
    "box = Box(children=items, layout=box_layout)\n",
    "box"
   ]
  },
  {
   "cell_type": "markdown",
   "metadata": {},
   "source": [
    "## 邊框/箱子大小參數：border/width/height"
   ]
  },
  {
   "cell_type": "code",
   "execution_count": 18,
   "metadata": {},
   "outputs": [
    {
     "data": {
      "application/vnd.jupyter.widget-view+json": {
       "model_id": "40516899b86747ddbcad2c7753ed0e2e",
       "version_major": 2,
       "version_minor": 0
      },
      "text/plain": [
       "Box(children=(Button(button_style='primary', description='小美', style=ButtonStyle()), Button(button_style='prim…"
      ]
     },
     "metadata": {},
     "output_type": "display_data"
    }
   ],
   "source": [
    "words = ['小美', '大雄', '大華', '花輪','小花','小明','阿呆','阿成']\n",
    "items = [Button(description=d, button_style='primary') for d in words]\n",
    "items_layout = Layout( width='auto')\n",
    "\n",
    "box_layout = Layout(display='flex',\n",
    "                    flex_flow='wrap',\n",
    "                    justify_content='center',\n",
    "                    border='20px solid pink',\n",
    "                    width='70%',\n",
    "                    height= '300px')\n",
    "\n",
    "box = Box(children=items, layout=box_layout)\n",
    "box"
   ]
  },
  {
   "cell_type": "markdown",
   "metadata": {},
   "source": [
    "## 另一種格式寫法： flex\n",
    "\n",
    "### flex-grow\n",
    "### flex- shrink\n",
    "### flex-basis"
   ]
  },
  {
   "cell_type": "code",
   "execution_count": 20,
   "metadata": {},
   "outputs": [
    {
     "data": {
      "application/vnd.jupyter.widget-view+json": {
       "model_id": "7f32767acd6f4e608a66bb07271424e0",
       "version_major": 2,
       "version_minor": 0
      },
      "text/plain": [
       "Box(children=(Button(button_style='warning', description='1', layout=Layout(flex='1 1 50%', width='auto'), sty…"
      ]
     },
     "metadata": {},
     "output_type": "display_data"
    }
   ],
   "source": [
    "items_auto = [\n",
    "    Button(description='1', layout=Layout(flex='1 1 50%', width='auto'), button_style='warning'),\n",
    "    Button(description='3', layout=Layout(flex='3 1 auto', width='auto'), button_style='warning'),\n",
    "    Button(description='1', layout=Layout(flex='1 1 auto', width='auto'), button_style='warning'),\n",
    " ]\n",
    "\n",
    "box1_layout = Layout(display='flex',\n",
    "                    flex_flow='row',\n",
    "                    align_items='stretch',\n",
    "                    width='70%')\n",
    "\n",
    "box_auto = Box(children=items_auto, layout=box1_layout)\n",
    "box_auto"
   ]
  },
  {
   "cell_type": "markdown",
   "metadata": {},
   "source": [
    "## 自訂Button顏色\n",
    "\n",
    "### 除了以下的既定顏色外：\n",
    "\n",
    "* 'primary'\n",
    "* 'success'\n",
    "* 'info'\n",
    "* 'warning'\n",
    "* 'danger'"
   ]
  },
  {
   "cell_type": "code",
   "execution_count": 21,
   "metadata": {},
   "outputs": [
    {
     "data": {
      "application/vnd.jupyter.widget-view+json": {
       "model_id": "78e5991b219d41abbed29e54ded9590e",
       "version_major": 2,
       "version_minor": 0
      },
      "text/plain": [
       "Button(description='custom color', style=ButtonStyle(button_color='#daafe9'))"
      ]
     },
     "metadata": {},
     "output_type": "display_data"
    }
   ],
   "source": [
    "x = Button(description='custom color')\n",
    "x.style.button_color ='#daafe9'\n",
    "x"
   ]
  },
  {
   "cell_type": "markdown",
   "metadata": {},
   "source": [
    "### 另一種排列方式： GridBox(來自css)"
   ]
  },
  {
   "cell_type": "code",
   "execution_count": 22,
   "metadata": {},
   "outputs": [],
   "source": [
    "from ipywidgets import GridBox,ButtonStyle"
   ]
  },
  {
   "cell_type": "markdown",
   "metadata": {},
   "source": [
    "### 直接用名稱排版："
   ]
  },
  {
   "cell_type": "code",
   "execution_count": 23,
   "metadata": {},
   "outputs": [
    {
     "data": {
      "application/vnd.jupyter.widget-view+json": {
       "model_id": "695dd521d51b471c93f6f065baf93369",
       "version_major": 2,
       "version_minor": 0
      },
      "text/plain": [
       "GridBox(children=(Button(description='標題', layout=Layout(grid_area='header', width='auto'), style=ButtonStyle(…"
      ]
     },
     "metadata": {},
     "output_type": "display_data"
    }
   ],
   "source": [
    "header  = Button(description='標題',\n",
    "                 layout=Layout(width='auto', grid_area='header'),\n",
    "                 style=ButtonStyle(button_color='lightblue'))\n",
    "main    = Button(description='左',\n",
    "                 layout=Layout(width='auto', grid_area='main'),\n",
    "                 style=ButtonStyle(button_color='moccasin'))\n",
    "sidebar = Button(description='右',\n",
    "                 layout=Layout(width='auto', grid_area='sidebar'),\n",
    "                 style=ButtonStyle(button_color='salmon'))\n",
    "footer  = Button(description='底',\n",
    "                 layout=Layout(width='auto', grid_area='footer'),\n",
    "                 style=ButtonStyle(button_color='green'))\n",
    "\n",
    "GridBox(children=[header, main, sidebar, footer],\n",
    "        layout=Layout(\n",
    "            width='100%',\n",
    "            grid_template_rows='auto auto auto',\n",
    "            grid_template_columns='25% 25% 25% 25%',\n",
    "            grid_gap='5px 5px',\n",
    "            grid_template_areas='''\n",
    "            \"header header header header\"\n",
    "            \"main main . sidebar \"\n",
    "            \"footer footer footer footer\"\n",
    "            ''')\n",
    "       )"
   ]
  },
  {
   "cell_type": "code",
   "execution_count": null,
   "metadata": {},
   "outputs": [],
   "source": []
  }
 ],
 "metadata": {
  "kernelspec": {
   "display_name": "Python 3",
   "language": "python",
   "name": "python3"
  },
  "language_info": {
   "codemirror_mode": {
    "name": "ipython",
    "version": 3
   },
   "file_extension": ".py",
   "mimetype": "text/x-python",
   "name": "python",
   "nbconvert_exporter": "python",
   "pygments_lexer": "ipython3",
   "version": "3.7.3"
  }
 },
 "nbformat": 4,
 "nbformat_minor": 2
}
