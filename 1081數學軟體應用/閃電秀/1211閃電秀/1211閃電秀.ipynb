{
 "cells": [
  {
   "cell_type": "markdown",
   "metadata": {},
   "source": [
    "# [柯里橫](https://nbviewer.jupyter.org/github/kkzzo1o1/kkzzo1o1/blob/master/NCCU%20Applications%20of%20mathematics%20softwares/Lightning_Talks_ko.ipynb?fbclid=IwAR2aG91146Dpanlq6Q7BPIttszK2Dg6GpmyhgAdHtEhPUvxQJHT2K00txaw)"
   ]
  },
  {
   "cell_type": "markdown",
   "metadata": {},
   "source": [
    "# [廖元希](https://nbviewer.jupyter.org/github/Yuanhsi/My-python-work/blob/master/%E8%AA%B2%E5%A0%82%E7%B9%B3%E4%BA%A4%E4%BD%9C%E6%A5%AD/%E7%B0%A1%E6%98%93%E7%B6%B2%E8%B7%AF%E7%88%AC%E8%9F%B2.ipynb?fbclid=IwAR3NWI2hCxn95mZGE4U8P7lWi0s1Etp4I7fwzW12j_uWj3R5B2nwVI7rdC8)"
   ]
  },
  {
   "cell_type": "markdown",
   "metadata": {},
   "source": [
    "# [鄭宇伶]()"
   ]
  },
  {
   "cell_type": "markdown",
   "metadata": {},
   "source": [
    "# [羅裕証]()"
   ]
  }
 ],
 "metadata": {
  "kernelspec": {
   "display_name": "Python 3",
   "language": "python",
   "name": "python3"
  },
  "language_info": {
   "codemirror_mode": {
    "name": "ipython",
    "version": 3
   },
   "file_extension": ".py",
   "mimetype": "text/x-python",
   "name": "python",
   "nbconvert_exporter": "python",
   "pygments_lexer": "ipython3",
   "version": "3.7.3"
  }
 },
 "nbformat": 4,
 "nbformat_minor": 2
}
