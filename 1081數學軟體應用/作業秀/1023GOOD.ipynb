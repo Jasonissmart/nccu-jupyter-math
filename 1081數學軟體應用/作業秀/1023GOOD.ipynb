{
 "cells": [
  {
   "cell_type": "markdown",
   "metadata": {
    "collapsed": true
   },
   "source": [
    "[108701026 應數一 張雯玲 日曆 ](https://nbviewer.jupyter.org/github/n23950629/My-python-work/blob/master/%E6%97%A5%E6%9B%86.ipynb?fbclid=IwAR2DWrJ1EtU0gRTejV6yXESHdY6j32tdRv0iN4yN8oz9A1mSfZ7qTFALu18)"
   ]
  },
  {
   "cell_type": "markdown",
   "metadata": {
    "collapsed": true
   },
   "source": [
    "[108301085 國貿ㄧ 鄭柏軒 隨機分組機器人改良版](https://nbviewer.jupyter.org/github/zalmancheng/MY-Python-Work/blob/master/%E6%95%B8%E8%BB%9F%E6%87%89%E7%94%A8/%E4%BD%9C%E6%A5%AD/%E6%95%B8%E8%BB%9F%E4%BD%9C%E6%A5%AD-WEEK%206-%E9%9A%A8%E6%A9%9F%E5%88%86%E7%B5%84%E6%A9%9F%E5%99%A8%E4%BA%BA-%E4%BF%AE%E8%A8%82%28%E4%B8%8D%E6%9C%83%E9%87%8D%E8%A4%87%29-Copy1.ipynb?fbclid=IwAR1nI8_ooqUREvMV8Y1yyvk5N79CmSutkUzQurCbU4ujlVDcaVYiKyEhld4)"
   ]
  },
  {
   "cell_type": "markdown",
   "metadata": {
    "collapsed": true
   },
   "source": [
    "[108701007 應數一 羅子翔 摩斯密碼轉換](https://nbviewer.jupyter.org/github/Johnson-lo/0000/blob/master/%E6%91%A9%E6%96%AF%E5%AF%86%E7%A2%BC%E8%BD%89%E6%8F%9B.ipynbPanasonic)"
   ]
  },
  {
   "cell_type": "markdown",
   "metadata": {
    "collapsed": true
   },
   "source": [
    "[106304017 統計三 孫韋傑 作業三: 水仙花數 一個N位非負整數，其各位數字的N次方和等於該數本身者，稱為水仙花數。](https://nbviewer.jupyter.org/github/YuAria/Python-Mini/blob/master/Week%206%20HW%20-%20%E6%B0%B4%E4%BB%99%E8%8A%B1%E6%95%B8.ipynb?fbclid=IwAR3vGVc8BU-zZpxwfPzg-JvP6Jf9xvLFLY0AQBY5Q7LOQXvLEpRoQ054dBM)"
   ]
  },
  {
   "cell_type": "markdown",
   "metadata": {
    "collapsed": true
   },
   "source": [
    "[108701002 應數一 洪子涵 抽五張牌](https://nbviewer.jupyter.org/github/HTH-333/my-python-work/blob/master/%E6%95%B8%E5%AD%B8%E8%BB%9F%E9%AB%94%E6%87%89%E7%94%A8/~10.22/%E6%8A%BD%E4%BA%94%E5%BC%B5%E7%89%8C.ipynb?fbclid=IwAR0DJNtKmfYFKLj4PREGdndVueD-NGvHrxdP9UXHmmy3mOoqCYeRKKT5SQc)"
   ]
  },
  {
   "cell_type": "markdown",
   "metadata": {
    "collapsed": true
   },
   "source": [
    "[107208095 經濟二 楊雅琪 利率計算](https://nbviewer.jupyter.org/github/amyyang17/mywork/blob/master/%E4%BD%9C%E6%A5%AD/1016%E6%95%B8%E8%BB%9F%E4%BD%9C%E6%A5%AD%E4%BA%8C%20%E5%88%A9%E7%8E%87%E8%A8%88%E7%AE%97.ipynb?fbclid=IwAR0MTV1_28dfx0AnVX0oWs9W1BEz4gQFPVTHuN8Waq2tqAkxeW2xEzxec8k)"
   ]
  },
  {
   "cell_type": "markdown",
   "metadata": {
    "collapsed": true
   },
   "source": [
    "[105306076 資管四 許雲輔 尋找品牌遊戲 v1](https://nbviewer.jupyter.org/github/nabroux/math_software/blob/master/%E4%B8%8A%E8%AA%B2%E4%BD%9C%E6%A5%AD%E5%8D%80/%E5%B0%8B%E6%89%BE%E5%93%81%E7%89%8C%E9%81%8A%E6%88%B2%20v1.ipynb?fbclid=IwAR3DtcH1qlAZfwNUot0x0wPU2uZMgoL-6fQADxYPiDB4VCMps9FImqXgQQo)"
   ]
  },
  {
   "cell_type": "code",
   "execution_count": null,
   "metadata": {},
   "outputs": [],
   "source": []
  }
 ],
 "metadata": {
  "kernelspec": {
   "display_name": "Python 3",
   "language": "python",
   "name": "python3"
  },
  "language_info": {
   "codemirror_mode": {
    "name": "ipython",
    "version": 3
   },
   "file_extension": ".py",
   "mimetype": "text/x-python",
   "name": "python",
   "nbconvert_exporter": "python",
   "pygments_lexer": "ipython3",
   "version": "3.7.3"
  }
 },
 "nbformat": 4,
 "nbformat_minor": 2
}
