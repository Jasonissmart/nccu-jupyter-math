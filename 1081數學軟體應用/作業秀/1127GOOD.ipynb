{
 "cells": [
  {
   "cell_type": "markdown",
   "metadata": {},
   "source": [
    "# [105305072 企管四 許惠甄 Contour設計](http://localhost:8888/notebooks/nccu-jupyter-math/1081數學軟體應用/作業秀/1127/1.ipynb)"
   ]
  },
  {
   "cell_type": "markdown",
   "metadata": {},
   "source": [
    "# [105306054 資管四 莊景雲](http://localhost:8888/notebooks/nccu-jupyter-math/1081數學軟體應用/作業秀/1127/2.ipynb)"
   ]
  },
  {
   "cell_type": "markdown",
   "metadata": {},
   "source": [
    "# [108701041 應數一 紀善祐 AMD股價](http://localhost:8888/notebooks/nccu-jupyter-math/1081數學軟體應用/作業秀/1127/3.ipynb)"
   ]
  },
  {
   "cell_type": "markdown",
   "metadata": {},
   "source": [
    "# [105302050 金融四 張瑄圃](http://localhost:8888/notebooks/nccu-jupyter-math/1081數學軟體應用/作業秀/1127/4.ipynb)"
   ]
  },
  {
   "cell_type": "markdown",
   "metadata": {},
   "source": [
    "# [105701004 應數四 黃乾唐](http://localhost:8888/notebooks/nccu-jupyter-math/1081數學軟體應用/作業秀/1127/5.ipynb)"
   ]
  },
  {
   "cell_type": "code",
   "execution_count": null,
   "metadata": {},
   "outputs": [],
   "source": []
  }
 ],
 "metadata": {
  "kernelspec": {
   "display_name": "Python 3",
   "language": "python",
   "name": "python3"
  },
  "language_info": {
   "codemirror_mode": {
    "name": "ipython",
    "version": 3
   },
   "file_extension": ".py",
   "mimetype": "text/x-python",
   "name": "python",
   "nbconvert_exporter": "python",
   "pygments_lexer": "ipython3",
   "version": "3.7.3"
  }
 },
 "nbformat": 4,
 "nbformat_minor": 2
}
