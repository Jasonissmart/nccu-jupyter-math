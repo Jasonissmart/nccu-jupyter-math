{
 "cells": [
  {
   "cell_type": "markdown",
   "metadata": {},
   "source": [
    "# [107208095 經濟二 楊雅琪 運用geopandas&folium來看Youbike站點](https://nbviewer.jupyter.org/github/amyyang17/mywork/blob/master/%E4%BD%9C%E6%A5%AD/11.13/11.13%20Youbike%E7%AB%99%E9%BB%9E%E7%B5%90%E5%90%88geopandas%26folium%E5%A5%97%E4%BB%B6.ipynb?fbclid=IwAR3ShuajFSC96vbFQwMeVzumj1aqo3gGAINNWyUeDEl4xEEOesXCCy6f1Z4)"
   ]
  },
  {
   "cell_type": "markdown",
   "metadata": {},
   "source": [
    "# [107204002 社會二 陳懷沁 2015-2018年全台腸病毒健保門診及住院就診人次分佈](https://nbviewer.jupyter.org/github/Meave0108/my_work-python-/blob/master/python%20HW%201113.ipynb?fbclid=IwAR3CiIIXGTdOWXOagJF3q4o9VvZ3GCEopYJnodI8iszz-pOKW9joCU4Db9A)"
   ]
  },
  {
   "cell_type": "markdown",
   "metadata": {},
   "source": [
    "# [打磚塊遊戲 資管四 許雲輔 105306076](https://nbviewer.jupyter.org/github/nabroux/math_software/blob/master/%E4%B8%8A%E8%AA%B2%E4%BD%9C%E6%A5%AD%E5%8D%80/Ping%20Pong%20Game.ipynb?fbclid=IwAR2c40pfWssaPeW8GG7a2zCFxk-myqMiArl1SH2FnGqvPzJ9B6efuKKza9Y)"
   ]
  },
  {
   "cell_type": "markdown",
   "metadata": {},
   "source": [
    "# [105302008 陳明勝 金融四](https://nbviewer.jupyter.org/github/handsomegod100/work/blob/master/%E6%88%BF%E5%83%B9%E9%A0%90%E6%B8%AC.ipynb?fbclid=IwAR3CNUxL8j18JxppOgyZB0SCEebbACB_4L3da9ElCPv2A979yc033ha4S-s)"
   ]
  },
  {
   "cell_type": "markdown",
   "metadata": {},
   "source": [
    "# [105306040 資管四 姚佳妤](https://nbviewer.jupyter.org/github/julie861106/2019Python/blob/master/1113_HW.ipynb?fbclid=IwAR0JopsYYbV4zKB6QAnYzmSzZfnCHlGax_pEMzTVBNF8GUKiNFKWxbypmCU)"
   ]
  },
  {
   "cell_type": "markdown",
   "metadata": {},
   "source": []
  },
  {
   "cell_type": "markdown",
   "metadata": {},
   "source": []
  },
  {
   "cell_type": "markdown",
   "metadata": {},
   "source": []
  },
  {
   "cell_type": "markdown",
   "metadata": {},
   "source": []
  }
 ],
 "metadata": {
  "kernelspec": {
   "display_name": "Python 3",
   "language": "python",
   "name": "python3"
  },
  "language_info": {
   "codemirror_mode": {
    "name": "ipython",
    "version": 3
   },
   "file_extension": ".py",
   "mimetype": "text/x-python",
   "name": "python",
   "nbconvert_exporter": "python",
   "pygments_lexer": "ipython3",
   "version": "3.7.3"
  }
 },
 "nbformat": 4,
 "nbformat_minor": 2
}
