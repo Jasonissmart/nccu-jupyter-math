{
 "cells": [
  {
   "cell_type": "markdown",
   "metadata": {},
   "source": [
    "# [107208095 經濟二 楊雅琪 簡易股價報酬率計算(抓即時資料計算)](https://nbviewer.jupyter.org/github/amyyang17/mywork/blob/master/%E4%BD%9C%E6%A5%AD/10.23/10.23%E6%95%B8%E8%BB%9F%E4%BD%9C%E6%A5%AD%E4%BA%8C%20%E8%82%A1%E7%A5%A8%E5%A0%B1%E9%85%AC%E7%8E%87%E8%A9%A6%E7%AE%97.ipynb?fbclid=IwAR2JLRE0ya7s2HVrh2fRQjMzzSNi7ZFqJv0skz2Z4FApAK-sG6U8nzUvA60)"
   ]
  },
  {
   "cell_type": "markdown",
   "metadata": {},
   "source": [
    "# [108701021 張承泰 應數一 隨機方程式生成](https://nbviewer.jupyter.org/github/ctc0314/-My-Python-Work/blob/master/%E6%95%B8%E5%AD%B8%E8%BB%9F%E9%AB%94%E6%87%89%E7%94%A8/%E7%AC%AC%E4%B8%83%E5%91%A8%E4%BD%9C%E6%A5%AD.ipynb?fbclid=IwAR05ayy_aLekhaO3l9IwLzkfvaB4YpTzzf3buWOb5IrqW_REitn28EmjWLk)"
   ]
  },
  {
   "cell_type": "markdown",
   "metadata": {},
   "source": [
    "# [107204050 社會二 呂修齊 作業一:遊戲:石虎過馬路](https://nbviewer.jupyter.org/github/kk890528/python-work/blob/master/1023%E4%B8%8A%E8%AA%B2%E4%BD%9C%E6%A5%AD1.ipynb?fbclid=IwAR2JLRE0ya7s2HVrh2fRQjMzzSNi7ZFqJv0skz2Z4FApAK-sG6U8nzUvA60)"
   ]
  },
  {
   "cell_type": "markdown",
   "metadata": {},
   "source": [
    "# [106304017 統計三 孫韋傑 作業一: 海龜長大v.1](https://github.com/YuAria/Python-Mini/blob/master/Week%207%20HW%20-%20%E6%B5%B7%E9%BE%9C%E9%95%B7%E5%A4%A7v.%201.ipynb?fbclid=IwAR20A6tEPguc09UG9UgOERhQLz61FigZ5SL1dp7zl97fYfpVa_amjakfggY)\n",
    "### [影片連結](https://www.facebook.com/groups/mitc.magic/permalink/754610771649405/?comment_id=758327707944378)"
   ]
  },
  {
   "cell_type": "markdown",
   "metadata": {},
   "source": [
    "# [106208018 經濟三 陳湘琦 關於考試二三事](https://nbviewer.jupyter.org/github/mayorange0329/Mayorange-python-work/blob/master/%E4%BD%9C%E6%A5%AD7-234_%E8%80%83%E8%A9%A6%E4%BA%8C%E4%B8%89%E4%BA%8B.ipynb?fbclid=IwAR3MWZlAZWOARbcjc_rlV5Iy8LRFo5FyTmmEVAFfar3HZqGubm-ZzwlIykE)"
   ]
  },
  {
   "cell_type": "markdown",
   "metadata": {},
   "source": [
    "# [1030 鄭伯軒 閃電秀](https://nbviewer.jupyter.org/github/zalmancheng/MY-Python-Work/blob/master/Theme%20Change.ipynb?fbclid=IwAR2EYMjMsAVDPVw8ms7-ZGUznGEVpLkzFHf1x5qciosBRHwJHhJ6ejohMIo)"
   ]
  },
  {
   "cell_type": "markdown",
   "metadata": {},
   "source": []
  },
  {
   "cell_type": "markdown",
   "metadata": {},
   "source": []
  },
  {
   "cell_type": "markdown",
   "metadata": {},
   "source": []
  },
  {
   "cell_type": "markdown",
   "metadata": {},
   "source": []
  },
  {
   "cell_type": "markdown",
   "metadata": {},
   "source": []
  }
 ],
 "metadata": {
  "kernelspec": {
   "display_name": "Python 3",
   "language": "python",
   "name": "python3"
  },
  "language_info": {
   "codemirror_mode": {
    "name": "ipython",
    "version": 3
   },
   "file_extension": ".py",
   "mimetype": "text/x-python",
   "name": "python",
   "nbconvert_exporter": "python",
   "pygments_lexer": "ipython3",
   "version": "3.7.3"
  }
 },
 "nbformat": 4,
 "nbformat_minor": 2
}
