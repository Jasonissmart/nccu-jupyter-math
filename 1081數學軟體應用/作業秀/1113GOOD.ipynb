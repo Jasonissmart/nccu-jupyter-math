{
 "cells": [
  {
   "cell_type": "markdown",
   "metadata": {},
   "source": [
    "# [105306068 資管四 鄭宇伶 分析來台各國籍職業為家庭主婦的比例](https://nbviewer.jupyter.org/github/Doggy1998/courses/blob/master/HW1112.ipynb?fbclid=IwAR1csb8MoQt0t2Q3kmnhrCBK8RvkHHmu4ifot2iisQCFAZ1HMGFDbcbirq4)"
   ]
  },
  {
   "cell_type": "markdown",
   "metadata": {},
   "source": [
    "# [106304017 統計三 孫韋傑 政大出國留學學校搜尋系統搜尋你/你的英檢成績可以申請哪所學校!](https://nbviewer.jupyter.org/github/YuAria/Python-Mini/blob/master/Week%208%20HW%20-%20%E6%94%BF%E5%A4%A7%E5%87%BA%E5%9C%8B%E7%95%99%E5%AD%B8%E5%AD%B8%E6%A0%A1%E6%90%9C%E5%B0%8B%E7%B3%BB%E7%B5%B1.ipynb?fbclid=IwAR3ZOxJ7xy1m-1qXWNyYZZLsh0g1UUOKj3fSTuUpLErmxp0CenVIXaKohow)"
   ]
  },
  {
   "cell_type": "markdown",
   "metadata": {},
   "source": [
    "# [108306036 資管一 羅永富 Facebook Live Sellers in Thailand(數據分析)](https://nbviewer.jupyter.org/github/Jeff-Lo/My-Python-Work/blob/master/%E5%B0%8FPython/2019-10-30%20Facebook%20Live%20Sellers%20in%20Thailand%28%E6%95%B8%E6%93%9A%E5%88%86%E6%9E%90%29.ipynb?fbclid=IwAR0stgzajhWbWkAaIVa9pn2LjiqNkTukI1gE6BDETOgaqHsOGTCZTn_d_Mg)"
   ]
  },
  {
   "cell_type": "markdown",
   "metadata": {},
   "source": [
    "# [107204025 社會二 陳嘉緯 美國旅客對東亞旅遊的評價](https://nbviewer.jupyter.org/github/eternity0928/My-python-work/blob/master/.ipynb_checkpoints/%E7%AC%AC%E4%B9%9D%E9%80%B1%E4%BD%9C%E6%A5%AD----%E7%9C%9F%E5%AF%A6%E6%95%B8%E6%93%9A%E5%88%86%E6%9E%90-checkpoint.ipynb?fbclid=IwAR2QIUNB28s0fU_xT9GeSu-WWR9gaMJ2qxX2Vk3B4p6AJOdPzFXkkz1vkqg)"
   ]
  },
  {
   "cell_type": "markdown",
   "metadata": {},
   "source": [
    "# [ 107208095 經濟二 楊雅琪 數據分析＿股票基本面_營收分析](https://nbviewer.jupyter.org/github/amyyang17/mywork/blob/master/%E4%BD%9C%E6%A5%AD/10.30/10.30%20%E6%95%B8%E6%93%9A%E5%88%86%E6%9E%90%EF%BC%BF%E8%82%A1%E7%A5%A8%E5%9F%BA%E6%9C%AC%E9%9D%A2_%E7%87%9F%E6%94%B6%E5%88%86%E6%9E%90.ipynb)"
   ]
  },
  {
   "cell_type": "markdown",
   "metadata": {},
   "source": [
    "# [心博二 廖元希 作業二 。工作滿意度分析](https://nbviewer.jupyter.org/github/Yuanhsi/My-python-work/blob/master/%E8%AA%B2%E5%A0%82%E7%B9%B3%E4%BA%A4%E4%BD%9C%E6%A5%AD/%E7%AC%AC%E4%B9%9D%E9%80%B1%E4%BD%9C%E6%A5%AD/%E4%BD%9C%E6%A5%AD%E4%BA%8C%20%E5%B7%A5%E4%BD%9C%E6%BB%BF%E6%84%8F%E5%BA%A6%E5%88%86%E6%9E%90.ipynb?fbclid=IwAR2La0gSXev0Dyq-1h7oGLi3ebRjPkduOFpUYVJpjXDLPde1HCgCGVhdJQ8)"
   ]
  },
  {
   "cell_type": "markdown",
   "metadata": {},
   "source": []
  }
 ],
 "metadata": {
  "kernelspec": {
   "display_name": "Python 3",
   "language": "python",
   "name": "python3"
  },
  "language_info": {
   "codemirror_mode": {
    "name": "ipython",
    "version": 3
   },
   "file_extension": ".py",
   "mimetype": "text/x-python",
   "name": "python",
   "nbconvert_exporter": "python",
   "pygments_lexer": "ipython3",
   "version": "3.7.3"
  }
 },
 "nbformat": 4,
 "nbformat_minor": 2
}
